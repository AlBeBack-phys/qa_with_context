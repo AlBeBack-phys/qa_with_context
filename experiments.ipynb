{
 "cells": [
  {
   "cell_type": "code",
   "execution_count": 1,
   "metadata": {
    "id": "SBUCG-8KMuDZ"
   },
   "outputs": [],
   "source": [
    "import torch\n",
    "import torch.nn as nn\n",
    "import requests\n",
    "import io\n",
    "from transformers import AutoTokenizer, AutoModel\n",
    "\n",
    "device = torch.device('cuda' if torch.cuda.is_available() else 'cpu')"
   ]
  },
  {
   "cell_type": "code",
   "execution_count": 2,
   "metadata": {
    "colab": {
     "base_uri": "https://localhost:8080/",
     "height": 257,
     "referenced_widgets": [
      "160e3fa3a92f41ae817d79e47ee2a3a6",
      "077f87c4879c42d9bcfa51959ff18410",
      "1716571ac910451dbbd70f1e7c8e4d12",
      "118866e633264fdf989f341d2d58d795",
      "1ea16220e8cc45f1a4fcf86d9cdd3457",
      "234267d5fa1a409d8e0ea43759e3f77c",
      "86e4da4f93d54801938d3462e2fe82a4",
      "de492fa9b4874433bf6094d7e377a10f",
      "cae5c28f445343f0a0009d757393ad7b",
      "4b0f9c3a1f204643becfa40e0bae71a5",
      "4e23cd20d39d49afb59ef4f0bbebce99",
      "50905cadbcc34f9e98b241c7cc446cee",
      "bcac72194dc34a9e80e0349a579b4a15",
      "e756c60bf016402698a22a53eed2195f",
      "6fb53803e81b461fa84ff1f34ce55c18",
      "a91ace80a63a494c962d471cfeff7010",
      "9f1c915eb44a41fb94967850b78dc3df",
      "c73480dd097444af8bd6943f78b47ee0",
      "ab9c8d6ab9e64f46b25f1518559f2681",
      "e53232851bad472cbd8d2038263e2102",
      "295da25a73fb4b8eb5a4a0296d4816ac",
      "ccb91d41efdb4047936fc5387ae9d6dc"
     ]
    },
    "id": "Xmh4UMMiMz4I",
    "outputId": "e8080fc0-c3d7-47ae-9fa5-14d7b73c2658"
   },
   "outputs": [
    {
     "name": "stderr",
     "output_type": "stream",
     "text": [
      "/usr/local/lib/python3.10/dist-packages/huggingface_hub/utils/_token.py:89: UserWarning: \n",
      "The secret `HF_TOKEN` does not exist in your Colab secrets.\n",
      "To authenticate with the Hugging Face Hub, create a token in your settings tab (https://huggingface.co/settings/tokens), set it as secret in your Google Colab and restart your session.\n",
      "You will be able to reuse this secret in all of your notebooks.\n",
      "Please note that authentication is recommended but still optional to access public models or datasets.\n",
      "  warnings.warn(\n"
     ]
    },
    {
     "data": {
      "application/vnd.jupyter.widget-view+json": {
       "model_id": "160e3fa3a92f41ae817d79e47ee2a3a6",
       "version_major": 2,
       "version_minor": 0
      },
      "text/plain": [
       "config.json:   0%|          | 0.00/642 [00:00<?, ?B/s]"
      ]
     },
     "metadata": {},
     "output_type": "display_data"
    },
    {
     "data": {
      "application/vnd.jupyter.widget-view+json": {
       "model_id": "50905cadbcc34f9e98b241c7cc446cee",
       "version_major": 2,
       "version_minor": 0
      },
      "text/plain": [
       "pytorch_model.bin:   0%|          | 0.00/714M [00:00<?, ?B/s]"
      ]
     },
     "metadata": {},
     "output_type": "display_data"
    },
    {
     "name": "stderr",
     "output_type": "stream",
     "text": [
      "Some weights of the model checkpoint at DeepPavlov/rubert-base-cased were not used when initializing BertModel: ['cls.predictions.bias', 'cls.predictions.decoder.bias', 'cls.predictions.decoder.weight', 'cls.predictions.transform.LayerNorm.bias', 'cls.predictions.transform.LayerNorm.weight', 'cls.predictions.transform.dense.bias', 'cls.predictions.transform.dense.weight', 'cls.seq_relationship.bias', 'cls.seq_relationship.weight']\n",
      "- This IS expected if you are initializing BertModel from the checkpoint of a model trained on another task or with another architecture (e.g. initializing a BertForSequenceClassification model from a BertForPreTraining model).\n",
      "- This IS NOT expected if you are initializing BertModel from the checkpoint of a model that you expect to be exactly identical (initializing a BertForSequenceClassification model from a BertForSequenceClassification model).\n"
     ]
    }
   ],
   "source": [
    "class QAModel(nn.Module):\n",
    "    def __init__(self, transformer_model_name=\"DeepPavlov/rubert-base-cased\"):\n",
    "        super(QAModel, self).__init__()\n",
    "\n",
    "        self.transformer = AutoModel.from_pretrained(transformer_model_name)\n",
    "\n",
    "        hidden_size = self.transformer.config.hidden_size\n",
    "        self.start_vector = nn.Linear(hidden_size, 1)\n",
    "        self.end_vector = nn.Linear(hidden_size, 1)\n",
    "\n",
    "        self.classifier = nn.Linear(hidden_size, 1)\n",
    "\n",
    "    def forward(self, input_ids, attention_mask):\n",
    "        transformer_output = self.transformer(input_ids=input_ids, attention_mask=attention_mask)\n",
    "        hidden_states = transformer_output.last_hidden_state\n",
    "\n",
    "        # Воспользуемся токеном начала последовательности для классификации\n",
    "        has_answer = torch.sigmoid(self.classifier(hidden_states[:, 0, :])).squeeze(-1)\n",
    "\n",
    "        start_logits = self.start_vector(hidden_states).squeeze(-1)\n",
    "\n",
    "        start_pred = torch.argmax(start_logits, dim=-1)\n",
    "\n",
    "        # Маскируем на всякий случай токены которые находятся до start_pred\n",
    "        mask = torch.arange(hidden_states.size(1), device=device)[None, :] >= start_pred[:, None]\n",
    "        end_hidden_states = hidden_states * mask[:, :, None]\n",
    "\n",
    "        end_logits = self.end_vector(end_hidden_states).squeeze(-1)\n",
    "\n",
    "        return start_logits, end_logits, has_answer\n",
    "\n",
    "model = QAModel().to(device)"
   ]
  },
  {
   "cell_type": "code",
   "execution_count": 3,
   "metadata": {
    "colab": {
     "base_uri": "https://localhost:8080/",
     "height": 202,
     "referenced_widgets": [
      "fcf52e77e7e449b597f3b84484333664",
      "f2cd09d852c844538e8b56457eddbb68",
      "6a81983d1a964e4c8ad39d1dbff5150a",
      "d34203091b0445939da78d987fd893f1",
      "4e4d0923aaca4b6ea7c285d433e28d4f",
      "387201d4d5424be3993eb8ed05a79807",
      "ce893787ea954d8f81c381a26919870b",
      "6f63cbce3362419aad8639ef27203777",
      "f630e79bbc8a42a5a469ced5f4e8feac",
      "18cd89a357604e36a7c630c431803165",
      "aae54bc281ca4477b8aec3cc2e8ca9b6",
      "7143c5f7b83e470c9c07d2b10a383fa2",
      "28ab2a5675fc462aa812b272f7f55414",
      "dc627c0e1e9f42159636703469cf524d",
      "511f5912d40c4deaa1cb690f56eeebeb",
      "64aa214a300e4866bd2fb6b9ee0c26e1",
      "5d482f2af0eb46d086d545508cbb69b6",
      "1e5e223b4cf74a4e9b53fa37573fde68",
      "a7a94775f8a646039d6dfe6ea686bcbc",
      "0566ddea1fe1466ea6276a26bd61a940",
      "bd7295fc9a604f4196d7659ef313c242",
      "5fe026253b644a298cf0e22927c42ea5",
      "bdd97d38201548de8f5b277d73cdb73b",
      "98b0ce5b801e4fd883cf5ebb2a27397d",
      "f1c963118f2e48e6b0492e8f638469bb",
      "3a83d5cad72d47428deaf7893a85656c",
      "7c7e7f2bad49463e84cda06cfa4327aa",
      "5f24a8d0c6e544f6941c494f4b6a0fd0",
      "8133e50ca68b4670bc6c66376300ed66",
      "1c41066801324c59acc22700593bc469",
      "a5467dbd29ca4f8c936d48cb75fab9d3",
      "4737e3b0d38f4a058ac428311806e400",
      "c899569a19de42d4ade61f91a8edcf0e"
     ]
    },
    "id": "m1zRG4yKM2sV",
    "outputId": "ac415136-f8eb-439a-d663-998702d7ee0e"
   },
   "outputs": [
    {
     "name": "stderr",
     "output_type": "stream",
     "text": [
      "<ipython-input-3-30256cd9a32c>:7: FutureWarning: You are using `torch.load` with `weights_only=False` (the current default value), which uses the default pickle module implicitly. It is possible to construct malicious pickle data which will execute arbitrary code during unpickling (See https://github.com/pytorch/pytorch/blob/main/SECURITY.md#untrusted-models for more details). In a future release, the default value for `weights_only` will be flipped to `True`. This limits the functions that could be executed during unpickling. Arbitrary objects will no longer be allowed to be loaded via this mode unless they are explicitly allowlisted by the user via `torch.serialization.add_safe_globals`. We recommend you start setting `weights_only=True` for any use case where you don't have full control of the loaded file. Please open an issue on GitHub for any issues related to this experimental feature.\n",
      "  state_dict = torch.load(weights_io, map_location=device)\n"
     ]
    },
    {
     "data": {
      "application/vnd.jupyter.widget-view+json": {
       "model_id": "fcf52e77e7e449b597f3b84484333664",
       "version_major": 2,
       "version_minor": 0
      },
      "text/plain": [
       "tokenizer_config.json:   0%|          | 0.00/24.0 [00:00<?, ?B/s]"
      ]
     },
     "metadata": {},
     "output_type": "display_data"
    },
    {
     "data": {
      "application/vnd.jupyter.widget-view+json": {
       "model_id": "7143c5f7b83e470c9c07d2b10a383fa2",
       "version_major": 2,
       "version_minor": 0
      },
      "text/plain": [
       "vocab.txt:   0%|          | 0.00/1.65M [00:00<?, ?B/s]"
      ]
     },
     "metadata": {},
     "output_type": "display_data"
    },
    {
     "data": {
      "application/vnd.jupyter.widget-view+json": {
       "model_id": "bdd97d38201548de8f5b277d73cdb73b",
       "version_major": 2,
       "version_minor": 0
      },
      "text/plain": [
       "special_tokens_map.json:   0%|          | 0.00/112 [00:00<?, ?B/s]"
      ]
     },
     "metadata": {},
     "output_type": "display_data"
    },
    {
     "name": "stderr",
     "output_type": "stream",
     "text": [
      "/usr/local/lib/python3.10/dist-packages/transformers/tokenization_utils_base.py:1601: FutureWarning: `clean_up_tokenization_spaces` was not set. It will be set to `True` by default. This behavior will be depracted in transformers v4.45, and will be then set to `False` by default. For more details check this issue: https://github.com/huggingface/transformers/issues/31884\n",
      "  warnings.warn(\n"
     ]
    }
   ],
   "source": [
    "weights_url = f\"https://huggingface.co/AlBeBack/qa-model_with_context/resolve/main/qa-model.pth\"\n",
    "\n",
    "response = requests.get(weights_url)\n",
    "response.raise_for_status()\n",
    "\n",
    "weights_io = io.BytesIO(response.content)\n",
    "state_dict = torch.load(weights_io, map_location=device)\n",
    "\n",
    "model.load_state_dict(state_dict)\n",
    "\n",
    "tokenizer = AutoTokenizer.from_pretrained(\"DeepPavlov/rubert-base-cased\")"
   ]
  },
  {
   "cell_type": "code",
   "execution_count": 83,
   "metadata": {
    "id": "On0nTI2diKlT"
   },
   "outputs": [],
   "source": [
    "def get_answer(new_data):\n",
    "    context_tokens = new_data['input_ids'][:, new_data['token_type_ids'].bool().squeeze()]\n",
    "    question_tokens = new_data['input_ids'][:, ~new_data['token_type_ids'].bool().squeeze()]\n",
    "    len_seq = 512 - len(question_tokens[0])\n",
    "\n",
    "    cur_answer = 'Ответа на этот вопрос в тексте не нашлось'\n",
    "    cur_has_answer = torch.tensor([0])\n",
    "    answers = [('Ответа на этот вопрос в тексте не нашлось', 0)]\n",
    "\n",
    "    if len(context_tokens[0]) > len_seq:\n",
    "        for i in range((len(context_tokens[0]) // (len_seq // 2) - 1) * 2):\n",
    "\n",
    "            querry = torch.cat((question_tokens, context_tokens[:, i*(len_seq // 2):i*(len_seq // 2) + len_seq]), dim=1)\n",
    "\n",
    "            with torch.no_grad():\n",
    "                start_logits, end_logits, has_answer = model(input_ids=querry, attention_mask=torch.ones_like(querry))\n",
    "\n",
    "            if has_answer >= 0.5:\n",
    "                start_index = torch.argmax(start_logits, dim=-1).item()\n",
    "                end_index = torch.argmax(end_logits, dim=-1).item()\n",
    "\n",
    "\n",
    "                answer_tokens = querry[0][start_index:end_index + 1]\n",
    "                answer = tokenizer.decode(answer_tokens, skip_special_tokens=True)\n",
    "                cur_answer = answer\n",
    "            answers.append((cur_answer, has_answer))\n",
    "\n",
    "\n",
    "\n",
    "            if i*(len_seq // 2) + len_seq >= len(context_tokens[0]):\n",
    "                break\n",
    "\n",
    "        cur_answer, cur_has_answer = max(answers, key=lambda x: x[1])\n",
    "\n",
    "    else:\n",
    "        start_logits, end_logits, has_answer = model(new_data['input_ids'], new_data['attention_mask'])\n",
    "\n",
    "        if has_answer >= 0.5:\n",
    "            start_index = torch.argmax(start_logits, dim=-1).item()\n",
    "            end_index = torch.argmax(end_logits, dim=-1).item()\n",
    "\n",
    "            answer_tokens = new_data['input_ids'][0][start_index:end_index + 1]\n",
    "            answer = tokenizer.decode(answer_tokens, skip_special_tokens=True)\n",
    "            cur_answer = answer\n",
    "        cur_has_answer = has_answer\n",
    "\n",
    "    return cur_answer, cur_has_answer"
   ]
  },
  {
   "cell_type": "markdown",
   "metadata": {
    "id": "HxHGR8NkhFKv"
   },
   "source": [
    "Поэкспериментируем немного с моделью"
   ]
  },
  {
   "cell_type": "code",
   "execution_count": 5,
   "metadata": {
    "id": "EBDVT2hShSJ6"
   },
   "outputs": [],
   "source": [
    "context = '''В господский дом Муму не ходила и, когда Герасим носил в комнаты дрова, всегда оставалась назади и нетерпеливо его выжидала у крыльца, навострив уши и\n",
    "поворачивая голову то направо, то вдруг налево, при малейшем стуке за дверями...\n",
    "Так прошел еще год. Герасим продолжал свои дворнические занятия и очень был доволен своей судьбой, как вдруг произошло одно неожиданное обстоятельство... а именно:\n",
    "В один прекрасный летний день барыня с своими приживалками расхаживала по гостиной. Она была в духе, смеялась и шутила; приживалки смеялись и шутили тоже,\n",
    "но особенной радости они не чувствовали: в доме не очень-то любили, когда на барыню находил веселый час, потому что, во-первых, она тогда требовала от всех немедленного и\n",
    "полного сочувствия и сердилась, если у кого-нибудь лицо не сияло удовольствием, а во-вторых, эти вспышки у ней продолжались недолго и обыкновенно заменялись\n",
    "мрачным и кислым расположением духа. В тот день она как-то счастливо встала; на картах ей вышло четыре валета: исполнение желаний (она всегда гадала по утрам) — и чай ей\n",
    "показался особенно вкусным, за что горничная получила на словах похвалу и деньгами гривенник. С сладкой улыбкой на сморщенных губах гуляла барыня по гостиной и подошла к окну.\n",
    "Перед окном был разбит палисадник, и на самой средней клумбе, под розовым кусточком, лежала Муму и тщательно грызла кость. Барыня увидала ее.\n",
    "— Боже мой! — воскликнула она вдруг, — что это за собака?\n",
    "Приживалка, к которой обратилась барыня, заметалась, бедненькая, с тем тоскливым беспокойством, которое обыкновенно овладевает подвластным человеком, когда он еще не знает хорошенько, как ему понять восклицание начальника.\n",
    "— Н... н...е знаю-с, — пробормотала она, — кажется, немого.\n",
    "— Боже мой! — прервала барыня, — да она премиленькая собачка! Велите ее привести. Давно она у него? Как же я это ее не видала до сих пор?.. Велите ее привести.\n",
    "Приживалка тотчас порхнула в переднюю.\n",
    "— Человек, человек! — закричала она, — приведите поскорей Муму! Она в палисаднике.\n",
    "— А ее Муму зовут, — промолвила барыня, — очень хорошее имя.\n",
    "— Ах, очень-с! — возразила приживалка. — Скорей, Степан!\n",
    "Степан, дюжий парень, состоявший в должности лакея, бросился сломя голову в палисадник и хотел было схватить Муму, но та ловко вывернулась из-под его пальцев и, подняв хвост,\n",
    "пустилась во все лопатки к Герасиму, который в то время у кухни выколачивал и вытряхивал бочку, перевертывая ее в руках, как детский барабан. Степан побежал за ней вслед,\n",
    "начал ловить ее у самых ног ее хозяина; но проворная собачка не давалась чужому в руки, прыгала и увертывалась. Герасим смотрел с усмешкой на всю эту возню; наконец Степан с\n",
    "досадой приподнялся и поспешно растолковал ему знаками, что барыня, мол, требует твою собаку к себе. Герасим немного изумился, однако подозвал Муму, поднял ее с земли и\n",
    "передал Степану.'''"
   ]
  },
  {
   "cell_type": "code",
   "execution_count": 42,
   "metadata": {
    "colab": {
     "base_uri": "https://localhost:8080/",
     "height": 36
    },
    "id": "rX-2QwPUhr39",
    "outputId": "600c2c53-bb6a-42b7-8bcb-379f87b90925"
   },
   "outputs": [
    {
     "data": {
      "application/vnd.google.colaboratory.intrinsic+json": {
       "type": "string"
      },
      "text/plain": [
       "'не ходила'"
      ]
     },
     "execution_count": 42,
     "metadata": {},
     "output_type": "execute_result"
    }
   ],
   "source": [
    "question1 = 'Ходила ли Муму в господский дом?'\n",
    "\n",
    "tokens = tokenizer(question1, context, return_tensors='pt')\n",
    "\n",
    "get_answer(tokens)[0]"
   ]
  },
  {
   "cell_type": "code",
   "execution_count": 17,
   "metadata": {
    "colab": {
     "base_uri": "https://localhost:8080/",
     "height": 36
    },
    "id": "Y6Yqm12IM4lw",
    "outputId": "a51b5daf-b311-49cc-c847-b18c408579ea"
   },
   "outputs": [
    {
     "data": {
      "application/vnd.google.colaboratory.intrinsic+json": {
       "type": "string"
      },
      "text/plain": [
       "'Она была в духе, смеялась и шутила'"
      ]
     },
     "execution_count": 17,
     "metadata": {},
     "output_type": "execute_result"
    }
   ],
   "source": [
    "question2 = 'В каком настроении была барыня?'\n",
    "\n",
    "tokens = tokenizer(question2, context, return_tensors='pt')\n",
    "\n",
    "get_answer(tokens)[0]"
   ]
  },
  {
   "cell_type": "markdown",
   "metadata": {
    "id": "ZggAGY3OjVou"
   },
   "source": [
    "Стоит заметить, что в тексте явно не было указано слово \"настроение\". Модель по контексту поняла что \"Она была в духе, смеялась и шутила\" - это про настроение барыни"
   ]
  },
  {
   "cell_type": "code",
   "execution_count": 36,
   "metadata": {
    "colab": {
     "base_uri": "https://localhost:8080/",
     "height": 36
    },
    "id": "mcVl3qw5nOxw",
    "outputId": "603ab816-6417-4b44-e25b-8a704a38a0e8"
   },
   "outputs": [
    {
     "data": {
      "application/vnd.google.colaboratory.intrinsic+json": {
       "type": "string"
      },
      "text/plain": [
       "'. — Боже мой'"
      ]
     },
     "execution_count": 36,
     "metadata": {},
     "output_type": "execute_result"
    }
   ],
   "source": [
    "question3 = 'Что сказала Барыня, когда увидела Муму?'\n",
    "\n",
    "tokens = tokenizer(question3, context, return_tensors='pt')\n",
    "\n",
    "get_answer(tokens)[0]"
   ]
  },
  {
   "cell_type": "markdown",
   "metadata": {
    "id": "Wm5_ttKykVSo"
   },
   "source": [
    "К слову, модель очень плохо справляется с задачами по типу \"скажи как его зовут\" или \"скажи кто он\", например:"
   ]
  },
  {
   "cell_type": "code",
   "execution_count": 18,
   "metadata": {
    "colab": {
     "base_uri": "https://localhost:8080/",
     "height": 53
    },
    "id": "ceiGjUzDjtkE",
    "outputId": "fbdf0786-ab2b-486a-881d-6ad4c6f443c2"
   },
   "outputs": [
    {
     "data": {
      "application/vnd.google.colaboratory.intrinsic+json": {
       "type": "string"
      },
      "text/plain": [
       "'собачка! Велите ее привести. Давно она у него? Как же я это ее не видала до сих пор?.. Велите ее привести. Приживалка тотчас порхнула в переднюю. — Человек, человек! — закричала она, — приведите поскорей Муму! Она в палисаднике. — А ее Муму зовут'"
      ]
     },
     "execution_count": 18,
     "metadata": {},
     "output_type": "execute_result"
    }
   ],
   "source": [
    "question4 = 'Как зовут собаку, о которой говорится в этом произведении?'\n",
    "\n",
    "tokens = tokenizer(question4, context, return_tensors='pt')\n",
    "\n",
    "get_answer(tokens)[0]"
   ]
  },
  {
   "cell_type": "code",
   "execution_count": 19,
   "metadata": {
    "id": "sI_M-KjSk3cz"
   },
   "outputs": [],
   "source": [
    "context2 = '''Александр - очень умный и прилежный человек. Он архитектор'''"
   ]
  },
  {
   "cell_type": "code",
   "execution_count": 21,
   "metadata": {
    "colab": {
     "base_uri": "https://localhost:8080/",
     "height": 36
    },
    "id": "R37lx0ptlCZG",
    "outputId": "8127e209-2dbb-425d-eda5-0555d490d902"
   },
   "outputs": [
    {
     "data": {
      "application/vnd.google.colaboratory.intrinsic+json": {
       "type": "string"
      },
      "text/plain": [
       "'Ответа на этот вопрос в тексте не нашлось'"
      ]
     },
     "execution_count": 21,
     "metadata": {},
     "output_type": "execute_result"
    }
   ],
   "source": [
    "question2_1 = 'Как зовут человека, о котором говорится в этом тексте?'\n",
    "\n",
    "tokens = tokenizer(question2_1, context2, return_tensors='pt')\n",
    "\n",
    "get_answer(tokens)[0]"
   ]
  },
  {
   "cell_type": "markdown",
   "metadata": {
    "id": "JM8YhVPZlQZ7"
   },
   "source": [
    "Модели не удалось понять, что Александр - это про имя"
   ]
  },
  {
   "cell_type": "code",
   "execution_count": 24,
   "metadata": {
    "colab": {
     "base_uri": "https://localhost:8080/",
     "height": 36
    },
    "id": "1Kl4bXOalUsU",
    "outputId": "d41f64d5-2c01-4c6e-aec4-daa4f9e7439c"
   },
   "outputs": [
    {
     "data": {
      "application/vnd.google.colaboratory.intrinsic+json": {
       "type": "string"
      },
      "text/plain": [
       "'очень умный и прилежный человек.'"
      ]
     },
     "execution_count": 24,
     "metadata": {},
     "output_type": "execute_result"
    }
   ],
   "source": [
    "question2_2 = 'Кто такой Александр?'\n",
    "\n",
    "tokens = tokenizer(question2_2, context2, return_tensors='pt')\n",
    "\n",
    "get_answer(tokens)[0]"
   ]
  },
  {
   "cell_type": "code",
   "execution_count": 25,
   "metadata": {
    "colab": {
     "base_uri": "https://localhost:8080/",
     "height": 36
    },
    "id": "WKgAEJ3TlpKD",
    "outputId": "b7cc187d-f16b-48ee-fcd9-13f39a0e0c50"
   },
   "outputs": [
    {
     "data": {
      "application/vnd.google.colaboratory.intrinsic+json": {
       "type": "string"
      },
      "text/plain": [
       "'Он архитектор'"
      ]
     },
     "execution_count": 25,
     "metadata": {},
     "output_type": "execute_result"
    }
   ],
   "source": [
    "question2_2 = 'Кем работает Александр?'\n",
    "\n",
    "tokens = tokenizer(question2_2, context2, return_tensors='pt')\n",
    "\n",
    "get_answer(tokens)[0]"
   ]
  },
  {
   "cell_type": "markdown",
   "metadata": {
    "id": "tWgFUYNdl5nT"
   },
   "source": [
    "Видим что модель способна понимать простые контексты - например, она поняла что архитектор это про профессию без явного указания этого факта, она смогла понять в какой части текста говорится про настроение. Однако с именами она справляется плохо, в её выводе на вопрос про имя собаки конечно содержится правильный ответ, но там достаточно много лишнего. Также стоит отметить, что когда мы спрашиваем \"кто этот человек\", мы с большей вероятностью хотим услышать про его профессию, а не то что он умный и прилежный, но это уже более тонкий момент"
   ]
  },
  {
   "cell_type": "markdown",
   "metadata": {
    "id": "_GdyS7u8p-X8"
   },
   "source": [
    "Теперь проверим качество модели на отложенной выборке. Для классификатора посчитаем precision, recall, roc-auc; Для самой модели посчитаем тоже precision и recall. Где precision - какая часть предсказанных токенов содержится в правильном ответе, а recall - какая часть правильных токенов содержится в ответе.\n",
    "Precision = корректные токены / все предсказанные токены;\n",
    "Recall = корректные токены / все правильные токены"
   ]
  },
  {
   "cell_type": "code",
   "execution_count": 37,
   "metadata": {
    "id": "tJoPh4opM8BZ"
   },
   "outputs": [],
   "source": [
    "import pandas as pd\n",
    "import numpy as np\n",
    "\n",
    "splits = {'train': 'sberquad/train-00000-of-00001.parquet', 'validation': 'sberquad/validation-00000-of-00001.parquet', 'test': 'sberquad/test-00000-of-00001.parquet'}\n",
    "df = pd.read_parquet(\"hf://datasets/kuznetsoffandrey/sberquad/\" + splits[\"validation\"])\n",
    "df['answer'] = df['answers'].apply(lambda x: x['text'][0])\n",
    "df['answer_start'] = df['answers'].apply(lambda x: x['answer_start'][0])\n",
    "df['answer_end'] = df['answer'].apply(lambda x: len(x)) + df['answer_start']\n",
    "df = df[df['answer_start'] != -1]\n",
    "df = df.reset_index(drop=True)\n",
    "df = df[['context', 'question', 'answer_start', 'answer_end', 'answer']]\n",
    "df['has_answer'] = 1"
   ]
  },
  {
   "cell_type": "code",
   "execution_count": 38,
   "metadata": {
    "id": "ybeuD-vQNdpx"
   },
   "outputs": [],
   "source": [
    "# Генерируем примеры когда ответ не найден\n",
    "def generate_negative_examples(df):\n",
    "    shuffled_questions = df['question'].sample(frac=1).reset_index(drop=True)\n",
    "\n",
    "    shuffled_question_df = pd.DataFrame({\n",
    "        'context': df['context'],\n",
    "        'question': shuffled_questions\n",
    "    })[:len(df) // 3]\n",
    "\n",
    "    # Cгенерируем примеры без контекста\n",
    "\n",
    "    without_context = df['question'].sample(frac=1).reset_index(drop=True)\n",
    "    without_context_df = pd.DataFrame({\n",
    "        'context': [''] * len(without_context),\n",
    "        'question': without_context\n",
    "    })[:len(df) // 50]\n",
    "\n",
    "    negative_examples = pd.concat([shuffled_question_df, without_context_df], ignore_index=True)\n",
    "\n",
    "    negative_examples['answer_start'] = -1\n",
    "    negative_examples['answer_end'] = -1\n",
    "    negative_examples['has_answer'] = 0\n",
    "\n",
    "    df = pd.concat([df, negative_examples], ignore_index=True).sample(frac=1).reset_index(drop=True)\n",
    "\n",
    "    del shuffled_questions, shuffled_question_df, without_context, without_context_df, negative_examples\n",
    "\n",
    "    return df\n",
    "\n",
    "df = generate_negative_examples(df)"
   ]
  },
  {
   "cell_type": "code",
   "execution_count": 46,
   "metadata": {
    "id": "V290cPHkNC9_"
   },
   "outputs": [],
   "source": [
    "from sklearn.metrics import precision_score, recall_score\n",
    "from collections import Counter\n",
    "\n",
    "\n",
    "def precision_recall(pred_answer, true_answer):\n",
    "    pred_tokens = tokenizer(pred_answer)['input_ids']\n",
    "    true_tokens = tokenizer(true_answer)['input_ids']\n",
    "\n",
    "    common_tokens = Counter(pred_tokens) & Counter(true_tokens)\n",
    "    correct_predictions = sum(common_tokens.values())\n",
    "\n",
    "    # Precision: корректные токены / все предсказанные токены\n",
    "    precision = correct_predictions / len(pred_tokens) if len(pred_tokens) > 0 else 0\n",
    "\n",
    "    # Recall: корректные токены / все правильные токены\n",
    "    recall = correct_predictions / len(true_tokens) if len(true_tokens) > 0 else 0\n",
    "\n",
    "    return precision, recall\n",
    "\n",
    "predictions = []\n",
    "labels = []\n",
    "\n",
    "precisions = []\n",
    "recalls = []\n",
    "\n",
    "for i, row in df.iterrows():\n",
    "  data = tokenizer(row['question'], row['context'], return_tensors='pt')\n",
    "\n",
    "  answer, has_answer = get_answer(data)\n",
    "  if row['has_answer'] == 1:\n",
    "      precision, recall = precision_recall(answer, row['answer'])\n",
    "\n",
    "      precisions.append(precision)\n",
    "      recalls.append(recall)\n",
    "\n",
    "  predictions.append(has_answer.item())\n",
    "  labels.append(row['has_answer'])"
   ]
  },
  {
   "cell_type": "code",
   "execution_count": 50,
   "metadata": {
    "id": "OJUENaQcPt8E"
   },
   "outputs": [],
   "source": [
    "import matplotlib.pyplot as plt\n",
    "from sklearn.metrics import roc_curve, auc, precision_score, recall_score"
   ]
  },
  {
   "cell_type": "code",
   "execution_count": 48,
   "metadata": {
    "id": "FD1IWiLDjYBX"
   },
   "outputs": [],
   "source": [
    "fpr, tpr, thresholds = roc_curve(labels, predictions)"
   ]
  },
  {
   "cell_type": "code",
   "execution_count": 53,
   "metadata": {
    "colab": {
     "base_uri": "https://localhost:8080/",
     "height": 564
    },
    "id": "TYYYQE_bjlV9",
    "outputId": "c53bdc5e-8b25-42ba-c583-02e0f34d3da9"
   },
   "outputs": [
    {
     "data": {
      "image/png": "[encoded data removed]",
      "text/plain": [
       "<Figure size 800x600 with 1 Axes>"
      ]
     },
     "metadata": {},
     "output_type": "display_data"
    }
   ],
   "source": [
    "roc_auc = auc(fpr, tpr)\n",
    "\n",
    "plt.figure(figsize=(8, 6))\n",
    "plt.plot(fpr, tpr, color='darkorange', lw=2, label=f'ROC curve (area = {roc_auc:.2f})')\n",
    "plt.plot([0, 1], [0, 1], color='navy', lw=2, linestyle='--')\n",
    "plt.xlim([0.0, 1.0])\n",
    "plt.ylim([0.0, 1.05])\n",
    "plt.xlabel('FPR')\n",
    "plt.ylabel('TPR')\n",
    "plt.title('ROC-AUC Curve')\n",
    "plt.legend(loc=\"lower right\")\n",
    "plt.show()"
   ]
  },
  {
   "cell_type": "code",
   "execution_count": 52,
   "metadata": {
    "colab": {
     "base_uri": "https://localhost:8080/"
    },
    "id": "M7UpnGD9BFHM",
    "outputId": "467e3b41-0d6d-4266-b1bd-3e2be8d76689"
   },
   "outputs": [
    {
     "name": "stdout",
     "output_type": "stream",
     "text": [
      "Precision: 0.9967679379444085\n",
      "Recall: 0.9987046632124352\n"
     ]
    }
   ],
   "source": [
    "print(f'Precision: {precision_score(labels, [1 if i >= 0.5 else 0 for i in predictions])}')\n",
    "print(f'Recall: {recall_score(labels, [1 if i >= 0.5 else 0 for i in predictions])}')"
   ]
  },
  {
   "cell_type": "markdown",
   "metadata": {
    "id": "99ZTr3N_Awnp"
   },
   "source": [
    "Классификатор ведёт себя как идеальный. Казалось бы, модель очень точно предсказывает, есть ли в тексте ответ на заданный вопрос. Однако, обнадёживать себя в данном случае не стоит. Дело в том, как мы получали отрицательные примеры: мы к данному контексту приаттачили случайно сгенерированный из всей нашей выборки вопрос. Поэтому отрицательные примеры были очень примитивные. Модели не составляет труда понять условно что в тексте про космос нет рецепта фаршированного перца. То есть модель проверяет на самом деле не то, есть ли в тексте ответ на данный вопрос, а то, соответствует ли вопрос теме текста. Это можно понять, например, на этих примерах:"
   ]
  },
  {
   "cell_type": "code",
   "execution_count": 61,
   "metadata": {
    "colab": {
     "base_uri": "https://localhost:8080/"
    },
    "id": "sLBPL8d0F6Lp",
    "outputId": "d0ae2ae0-94e3-4f3b-99bc-c5cd29ef8198"
   },
   "outputs": [
    {
     "data": {
      "text/plain": [
       "('В господский дом Муму не ходила и', 0.9999436140060425)"
      ]
     },
     "execution_count": 61,
     "metadata": {},
     "output_type": "execute_result"
    }
   ],
   "source": [
    "question5 = 'Сколько ног у Муму?'\n",
    "\n",
    "tokens = tokenizer(question5, context, return_tensors='pt')\n",
    "\n",
    "answer = get_answer(tokens)\n",
    "answer[0], answer[1].item()"
   ]
  },
  {
   "cell_type": "code",
   "execution_count": 62,
   "metadata": {
    "colab": {
     "base_uri": "https://localhost:8080/"
    },
    "id": "41hY001LJ44o",
    "outputId": "ccfecac6-e44c-44a9-d278-a4b5bd834b7d"
   },
   "outputs": [
    {
     "data": {
      "text/plain": [
       "('.. Так прошел еще год. Герасим продолжал свои', 0.9996675252914429)"
      ]
     },
     "execution_count": 62,
     "metadata": {},
     "output_type": "execute_result"
    }
   ],
   "source": [
    "question6 = 'Что Герасим ел на завтрак?'\n",
    "\n",
    "tokens = tokenizer(question6, context, return_tensors='pt')\n",
    "\n",
    "answer = get_answer(tokens)\n",
    "answer[0], answer[1].item()"
   ]
  },
  {
   "cell_type": "markdown",
   "metadata": {
    "id": "DqUxvUIDKGr1"
   },
   "source": [
    "Надо отметить сильную уверенность модели в том что данные ответы в тексте присутствуют"
   ]
  },
  {
   "cell_type": "markdown",
   "metadata": {
    "id": "cbhxiVP7LD1a"
   },
   "source": [
    "В качестве предобученной модели я использовал ruBert, ибо считается что Bert-like модели хороши в задаче понимания текста. У этой модели есть ограничения на количество входных токенов - максимум 512. Я попытался, тем не менее, научить её справляться с большими текстами. Для этого я решил разбивать большие тексты на части. Однако, если ответ находится на стыке этих частей, это может повлечь за собой некорректный результат. Поэтому я прохожусь по тексту окном размера 512(с учётом длины вопроса) и шагом 256, а не 512, чтобы весь текст обрабатывался корректно. Но что если модель найдёт ответы в нескольких частях текста - какой лучше выбрать? Интуитивно, выход классификатора наличия ответа в тексте можно интерпретировать как уверенность модели в своём ответе. Тогда я ещё не додумался что этот классификатор будет работать не совсем так как я задумывал, но в итоге эмпирически оказалось что такой подход действительно даёт относительно удобоваримые результаты. Для примера попробуем обработать большой текст"
   ]
  },
  {
   "cell_type": "code",
   "execution_count": 91,
   "metadata": {
    "id": "nN7xdmDaPYng"
   },
   "outputs": [],
   "source": [
    "def get_answer_2(new_data):\n",
    "    context_tokens = new_data['input_ids'][:, new_data['token_type_ids'].bool().squeeze()]\n",
    "    question_tokens = new_data['input_ids'][:, ~new_data['token_type_ids'].bool().squeeze()]\n",
    "    len_seq = 512 - len(question_tokens[0])\n",
    "\n",
    "    cur_answer = 'Ответа на этот вопрос в тексте не нашлось'\n",
    "    cur_has_answer = torch.tensor([0])\n",
    "    answers = [('Ответа на этот вопрос в тексте не нашлось', 0)]\n",
    "\n",
    "    if len(context_tokens[0]) > len_seq:\n",
    "        for i in range((len(context_tokens[0]) // (len_seq // 2) - 1) * 2):\n",
    "            querry = torch.cat((question_tokens, context_tokens[:, i*(len_seq // 2):i*(len_seq // 2) + len_seq]), dim=1)\n",
    "\n",
    "            with torch.no_grad():\n",
    "                start_logits, end_logits, has_answer = model(input_ids=querry, attention_mask=torch.ones_like(querry))\n",
    "\n",
    "            if has_answer >= 0.5:\n",
    "                start_index = torch.argmax(start_logits, dim=-1).item()\n",
    "                end_index = torch.argmax(end_logits, dim=-1).item()\n",
    "\n",
    "\n",
    "                answer_tokens = querry[0][start_index:end_index + 1]\n",
    "                answer = tokenizer.decode(answer_tokens, skip_special_tokens=True)\n",
    "                cur_answer = answer\n",
    "            answers.append((cur_answer, has_answer.item()))\n",
    "\n",
    "\n",
    "\n",
    "            if i*(len_seq // 2) + len_seq >= len(context_tokens[0]):\n",
    "                break\n",
    "\n",
    "        cur_answer, cur_has_answer = max(answers, key=lambda x: x[1])\n",
    "\n",
    "    else:\n",
    "        start_logits, end_logits, has_answer = model(new_data['input_ids'], new_data['attention_mask'])\n",
    "\n",
    "        if has_answer >= 0.5:\n",
    "            start_index = torch.argmax(start_logits, dim=-1).item()\n",
    "            end_index = torch.argmax(end_logits, dim=-1).item()\n",
    "\n",
    "            answer_tokens = new_data['input_ids'][0][start_index:end_index + 1]\n",
    "            answer = tokenizer.decode(answer_tokens, skip_special_tokens=True)\n",
    "            cur_answer = answer\n",
    "        cur_has_answer = has_answer\n",
    "\n",
    "    return answers, cur_answer"
   ]
  },
  {
   "cell_type": "code",
   "execution_count": 78,
   "metadata": {
    "id": "5JCvXfWtNfQO"
   },
   "outputs": [],
   "source": [
    "context3 = '''Старинный двухэтажный дом кремового цвета помещался на бульварном кольце в глубине чахлого сада, отделенного от тротуара кольца резною чугунною решеткой.\n",
    "Небольшая площадка перед домом была заасфальтирована, и в зимнее время на ней возвышался сугроб с лопатой, а в летнее время она превращалась в великолепнейшее отделение\n",
    "летнего ресторана под парусиновым тентом.\n",
    "Дом назывался «домом Грибоедова» на том основании, что будто бы некогда им владела тетка писателя – Александра Сергеевича Грибоедова.\n",
    "Ну владела или не владела – мы того не знаем. Помнится даже, что, кажется, никакой тетки-домовладелицы у Грибоедова не было... Однако дом так называли.\n",
    "Более того, один московский врун рассказывал, что якобы вот во втором этаже, в круглом зале с колоннами, знаменитый писатель читал отрывки из «Горя от ума» этой самой тетке,\n",
    "раскинувшейся на софе, а впрочем, черт его знает, может быть, и читал, не важно это!\n",
    "А важно то, что в настоящее время владел этим домом тот самый МАССОЛИТ, во главе которого стоял несчастный Михаил Александрович Берлиоз до своего появления на Патриарших прудах.\n",
    "С легкой руки членов МАССОЛИТа никто не называл дом «домом Грибоедова», а все говорили просто – «Грибоедов»: «Я вчера два часа протолкался у Грибоедова»,\n",
    "– «Ну и как?» – «В Ялту на месяц добился». – «Молодец!». Или: «Пойди к Берлиозу, он сегодня от четырех до пяти принимает в Грибоедове...» И так далее.\n",
    "МАССОЛИТ разместился в Грибоедове так, что лучше и уютнее не придумать. Всякий, входящий в Грибоедова, прежде всего знакомился невольно с извещениями разных спортивных\n",
    "кружков и с групповыми, а также индивидуальными фотографиями членов МАССОЛИТа, которыми (фотографиями) были увешаны стены лестницы, ведущей во второй этаж.\n",
    "На дверях первой же комнаты в этом верхнем этаже виднелась крупная надпись «Рыбно-дачная секция», и тут же был изображен карась, попавшийся на уду.\n",
    "На дверях комнаты N 2 было написано что-то не совсем понятное: «Однодневная творческая путевка. Обращаться к М. В. Подложной».\n",
    "Следующая дверь несла на себе краткую, но уже вовсе непонятную надпись: «Перелыгино». Потом у случайного посетителя Грибоедова начинали разбегаться глаза от надписей,\n",
    "пестревших на ореховых теткиных дверях: «Запись в очередь на бумагу у Поклевкиной», «Касса», «Личные расчеты скетчистов»...\n",
    "Прорезав длиннейшую очередь, начинавшуюся уже внизу в швейцарской, можно было видеть надпись на двери, в которую ежесекундно ломился народ: «Квартирный вопрос».\n",
    "За квартирным вопросом открывался роскошный плакат, на котором изображена была скала, а по гребню ее ехал всадник в бурке и с винтовкой за плечами.\n",
    "Пониже – пальмы и балкон, на балконе – сидящий молодой человек с хохолком, глядящий куда-то ввысь очень-очень бойкими глазами и держащий в руке самопишущее перо.\n",
    "Подпись: «Полнообъемные творческие отпуска от двух недель (рассказ-новелла) до одного года (роман, трилогия). Ялта, Суук-Су, Боровое, Цихидзири, Махинджаури,\n",
    "Ленинград (Зимний дворец)». У этой двери также была очередь, но не чрезмерная, человек в полтораста.\n",
    "Далее следовали, повинуясь прихотливым изгибам, подъемам и спускам Грибоедовского дома, – «Правление МАССОЛИТа», «Кассы N 2, 3, 4, 5», «Редакционная коллегия»,\n",
    "«Председатель МАССОЛИТа», «Бильярдная», различные подсобные учреждения, наконец, тот самый зал с колоннадой, где тетка наслаждалась комедией гениального племянника.\n",
    "Всякий посетитель, если он, конечно, был не вовсе тупицей, попав в Грибоедова, сразу же соображал, насколько хорошо живется счастливцам – членам МАССОЛИТа,\n",
    "и черная зависть начинала немедленно терзать его. И немедленно же он обращал к небу горькие укоризны за то, что оно не наградило его при рождении литературным\n",
    "талантом, без чего, естественно, нечего было и мечтать овладеть членским МАССОЛИТским билетом, коричневым, пахнущим дорогой кожей, с золотой широкой каймой, –\n",
    "известным всей Москве билетом.\n",
    "Кто скажет что-нибудь в защиту зависти? Это чувство дрянной категории, но все же надо войти и в положение посетителя.\n",
    "Ведь то, что он видел в верхнем этаже, было не все и далеко еще не все. Весь нижний этаж теткиного дома был занят рестораном, и каким рестораном!\n",
    "По справедливости он считался самым лучшим в Москве. И не только потому, что размещался он в двух больших залах со сводчатыми потолками,\n",
    "расписанными лиловыми лошадьми с ассирийскими гривами, не только потому, что на каждом столике помещалась лампа, накрытая шалью, не только потому, что туда\n",
    "не мог проникнуть первый попавшийся человек с улицы, а еще и потому, что качеством своей провизии Грибоедов бил любой ресторан в Москве, как хотел, и что эту\n",
    "провизию отпускали по самой сходной, отнюдь не обременительной цене.'''"
   ]
  },
  {
   "cell_type": "code",
   "execution_count": 92,
   "metadata": {
    "colab": {
     "base_uri": "https://localhost:8080/"
    },
    "id": "u9C2UwlPOKSu",
    "outputId": "2969bf46-a927-4234-8876-1686210f2c47"
   },
   "outputs": [
    {
     "name": "stdout",
     "output_type": "stream",
     "text": [
      "Ответы, которые модель нашла в тексте, вместе с уверенностями: [('Ответа на этот вопрос в тексте не нашлось', 0), ('индивидуальными фотографиями', 0.9968128800392151), ('стены лестницы', 0.9985554814338684), ('коричневым, пахнущим дорогой кожей, с золотой широкой каймой', 0.9998750686645508), ('коричневым, пахнущим дорогой кожей', 0.9999831914901733)]\n",
      "Окончательный ответ модели: коричневым, пахнущим дорогой кожей\n"
     ]
    }
   ],
   "source": [
    "question3_1 = 'Чем пахнет членский МАССОЛИТский билет?'\n",
    "\n",
    "tokens = tokenizer(question3_1, context3, return_tensors='pt')\n",
    "\n",
    "answers = get_answer_2(tokens)\n",
    "\n",
    "print(f'Ответы, которые модель нашла в тексте, вместе с уверенностями: {answers[0]}')\n",
    "print(f'Окончательный ответ модели: {answers[1]}')"
   ]
  },
  {
   "cell_type": "code",
   "execution_count": 93,
   "metadata": {
    "colab": {
     "base_uri": "https://localhost:8080/"
    },
    "id": "MXIQ9p5wRJMB",
    "outputId": "8608985b-72a1-4a8a-8837-58d80437bbd7"
   },
   "outputs": [
    {
     "name": "stdout",
     "output_type": "stream",
     "text": [
      "Ответы, которые модель нашла в тексте, вместе с уверенностями: [('Ответа на этот вопрос в тексте не нашлось', 0), ('стены лестницы, ведущей во второй этаж', 0.9997724890708923), ('В Ялту на месяц добился ». – « Молодец! ». Или : « Пойди к Берлиозу, он сегодня от четырех до пяти принимает в Грибоедове... » И так далее. МАССОЛИТ разместился в Грибоедове так, что лучше и уютнее не придумать. Всякий, входящий в Грибоедова, прежде всего знакомился невольно с извещениями разных спортивных кружков и с групповыми, а также индивидуальными фотографиями членов МАССОЛИТа, которыми ( фотографиями ) были увешаны стены лестницы', 0.9798363447189331), ('». У этой двери', 0.9999157190322876), ('все. Весь нижний этаж теткиного дома был занят рестораном', 0.9999316930770874)]\n",
      "Окончательный ответ модели: все. Весь нижний этаж теткиного дома был занят рестораном\n"
     ]
    }
   ],
   "source": [
    "question3_2 = 'Чем был занят весь нижний этаж теткиного дома?'\n",
    "\n",
    "tokens = tokenizer(question3_2, context3, return_tensors='pt')\n",
    "\n",
    "answers = get_answer_2(tokens)\n",
    "\n",
    "print(f'Ответы, которые модель нашла в тексте, вместе с уверенностями: {answers[0]}')\n",
    "print(f'Окончательный ответ модели: {answers[1]}')"
   ]
  },
  {
   "cell_type": "markdown",
   "metadata": {
    "id": "rTRjM-q_R9Ye"
   },
   "source": [
    "Видим, что модель способна понимать что происходит в конце большого текста, хотя в ответе есть лишние слова. Однако, если интерпретировать выход классификатора как уверенность модели, получается что модель сильно уверена во всех ответах, но в правильном уверена лишь немного больше. Поэтому при чуть менее очевидных формулировках результат работы модели в больших текстах будет неустойчив"
   ]
  },
  {
   "cell_type": "markdown",
   "metadata": {
    "id": "oXNf_t54Tx7C"
   },
   "source": [
    "Теперь посчитаем precision и recall нашей qa-модели"
   ]
  },
  {
   "cell_type": "code",
   "execution_count": 102,
   "metadata": {
    "colab": {
     "base_uri": "https://localhost:8080/"
    },
    "id": "zYdabMKKTxFC",
    "outputId": "7b797755-ae3d-4f30-be2b-f2e52db943be"
   },
   "outputs": [
    {
     "name": "stdout",
     "output_type": "stream",
     "text": [
      "Precision: 0.82\n",
      "Recall: 0.85\n"
     ]
    }
   ],
   "source": [
    "precision = sum(precisions) / len(precisions)\n",
    "recall = sum(recalls) / len(recalls)\n",
    "\n",
    "print(f'Precision: {round(precision, 2)}')\n",
    "print(f'Recall: {round(recall, 2)}')"
   ]
  },
  {
   "cell_type": "markdown",
   "metadata": {
    "id": "veL8uXoVUCRI"
   },
   "source": [
    "Иными словами, в среднем, 82% токенов, предсказываемых моделью, оказываются правильными. В среднем моделью предсказывается 85% токенов правильного ответа. Чтобы выразить качество модели в одном числе, воспользуемся F-betta мерой. Учитывая, что в нашей задаче recall важнее чем precision(не так страшно если мы захватим несколько лишних токенов в ответе, важнее чтобы в выходе модели ответ содержался полностью), возьмём коэффициент betta = 1.5"
   ]
  },
  {
   "cell_type": "code",
   "execution_count": 101,
   "metadata": {
    "colab": {
     "base_uri": "https://localhost:8080/"
    },
    "id": "A3TejSGZUAdr",
    "outputId": "b0c8fae7-e390-4166-e67d-f62c4d5be5cc"
   },
   "outputs": [
    {
     "name": "stdout",
     "output_type": "stream",
     "text": [
      "F-score: 0.84\n"
     ]
    }
   ],
   "source": [
    "betta = 1.5\n",
    "f_score = (1 + betta**2) * precision * recall / (betta**2 * precision + recall)\n",
    "\n",
    "print(f'F-score: {round(f_score, 2)}')"
   ]
  },
  {
   "cell_type": "markdown",
   "metadata": {
    "id": "H_gztmjjWY-S"
   },
   "source": [
    "Видно, что модели есть куда расти\n",
    "\n",
    "Как можно сделать лучше?\n",
    "\n",
    "1. Эта модель недообучена. Она обучалась 10 эпох, что недостаточно.\n",
    "2. Нужно больше разнообразных данных, больше неочевидных формулировок вопросов в обучающей выборке. Потому что очень много вопросов в датасете задаются теми же словами, которыми про это написано в тексте, например:<br> Контекст: \"...Первые упоминания о строении человеческого тела встречаются в Древнем Египте. В XXVII веке до н. э. египетский врач Имхотеп описал некоторые органы и их функции, в частности головной мозг, деятельность сердца, распространение крови по сосудам....\"<br>\n",
    "Вопросы: Где встречаются первые упоминания о строении человеческого тела?<br>\n",
    "или Когда египетский врач Имхотеп впервые описал некоторые органы и их функции?<br>\n",
    "Нужны вопросы которые не просто буквально повторяют то что написано в тексте, а как можно более перефразированные, чтобы модель больше училась понимать контекст, а не просто искать похожие слова в тексте.\n",
    "3. Нужны также отрицательные примеры, чтобы если ответа в тексте не найдено, у модели была возможность не выдавать какой-то случайный пассаж, а вывести в качестве вывода что ответа в тексте нет.\n",
    "4. Необходимо разработать более устойчивый метод обработки длинных текстов или доработать существующий."
   ]
  }
 ],
 "metadata": {
  "colab": {
   "provenance": []
  },
  "kernelspec": {
   "display_name": "Python 3 (ipykernel)",
   "language": "python",
   "name": "python3"
  },
  "language_info": {
   "codemirror_mode": {
    "name": "ipython",
    "version": 3
   },
   "file_extension": ".py",
   "mimetype": "text/x-python",
   "name": "python",
   "nbconvert_exporter": "python",
   "pygments_lexer": "ipython3",
   "version": "3.12.4"
  },
  "widgets": {
   "application/vnd.jupyter.widget-state+json": {
    "0566ddea1fe1466ea6276a26bd61a940": {
     "model_module": "@jupyter-widgets/controls",
     "model_module_version": "1.5.0",
     "model_name": "ProgressStyleModel",
     "state": {
      "_model_module": "@jupyter-widgets/controls",
      "_model_module_version": "1.5.0",
      "_model_name": "ProgressStyleModel",
      "_view_count": null,
      "_view_module": "@jupyter-widgets/base",
      "_view_module_version": "1.2.0",
      "_view_name": "StyleView",
      "bar_color": null,
      "description_width": ""
     }
    },
    "077f87c4879c42d9bcfa51959ff18410": {
     "model_module": "@jupyter-widgets/controls",
     "model_module_version": "1.5.0",
     "model_name": "HTMLModel",
     "state": {
      "_dom_classes": [],
      "_model_module": "@jupyter-widgets/controls",
      "_model_module_version": "1.5.0",
      "_model_name": "HTMLModel",
      "_view_count": null,
      "_view_module": "@jupyter-widgets/controls",
      "_view_module_version": "1.5.0",
      "_view_name": "HTMLView",
      "description": "",
      "description_tooltip": null,
      "layout": "IPY_MODEL_234267d5fa1a409d8e0ea43759e3f77c",
      "placeholder": "​",
      "style": "IPY_MODEL_86e4da4f93d54801938d3462e2fe82a4",
      "value": "config.json: 100%"
     }
    },
    "118866e633264fdf989f341d2d58d795": {
     "model_module": "@jupyter-widgets/controls",
     "model_module_version": "1.5.0",
     "model_name": "HTMLModel",
     "state": {
      "_dom_classes": [],
      "_model_module": "@jupyter-widgets/controls",
      "_model_module_version": "1.5.0",
      "_model_name": "HTMLModel",
      "_view_count": null,
      "_view_module": "@jupyter-widgets/controls",
      "_view_module_version": "1.5.0",
      "_view_name": "HTMLView",
      "description": "",
      "description_tooltip": null,
      "layout": "IPY_MODEL_4b0f9c3a1f204643becfa40e0bae71a5",
      "placeholder": "​",
      "style": "IPY_MODEL_4e23cd20d39d49afb59ef4f0bbebce99",
      "value": " 642/642 [00:00&lt;00:00, 12.2kB/s]"
     }
    },
    "160e3fa3a92f41ae817d79e47ee2a3a6": {
     "model_module": "@jupyter-widgets/controls",
     "model_module_version": "1.5.0",
     "model_name": "HBoxModel",
     "state": {
      "_dom_classes": [],
      "_model_module": "@jupyter-widgets/controls",
      "_model_module_version": "1.5.0",
      "_model_name": "HBoxModel",
      "_view_count": null,
      "_view_module": "@jupyter-widgets/controls",
      "_view_module_version": "1.5.0",
      "_view_name": "HBoxView",
      "box_style": "",
      "children": [
       "IPY_MODEL_077f87c4879c42d9bcfa51959ff18410",
       "IPY_MODEL_1716571ac910451dbbd70f1e7c8e4d12",
       "IPY_MODEL_118866e633264fdf989f341d2d58d795"
      ],
      "layout": "IPY_MODEL_1ea16220e8cc45f1a4fcf86d9cdd3457"
     }
    },
    "1716571ac910451dbbd70f1e7c8e4d12": {
     "model_module": "@jupyter-widgets/controls",
     "model_module_version": "1.5.0",
     "model_name": "FloatProgressModel",
     "state": {
      "_dom_classes": [],
      "_model_module": "@jupyter-widgets/controls",
      "_model_module_version": "1.5.0",
      "_model_name": "FloatProgressModel",
      "_view_count": null,
      "_view_module": "@jupyter-widgets/controls",
      "_view_module_version": "1.5.0",
      "_view_name": "ProgressView",
      "bar_style": "success",
      "description": "",
      "description_tooltip": null,
      "layout": "IPY_MODEL_de492fa9b4874433bf6094d7e377a10f",
      "max": 642,
      "min": 0,
      "orientation": "horizontal",
      "style": "IPY_MODEL_cae5c28f445343f0a0009d757393ad7b",
      "value": 642
     }
    },
    "18cd89a357604e36a7c630c431803165": {
     "model_module": "@jupyter-widgets/base",
     "model_module_version": "1.2.0",
     "model_name": "LayoutModel",
     "state": {
      "_model_module": "@jupyter-widgets/base",
      "_model_module_version": "1.2.0",
      "_model_name": "LayoutModel",
      "_view_count": null,
      "_view_module": "@jupyter-widgets/base",
      "_view_module_version": "1.2.0",
      "_view_name": "LayoutView",
      "align_content": null,
      "align_items": null,
      "align_self": null,
      "border": null,
      "bottom": null,
      "display": null,
      "flex": null,
      "flex_flow": null,
      "grid_area": null,
      "grid_auto_columns": null,
      "grid_auto_flow": null,
      "grid_auto_rows": null,
      "grid_column": null,
      "grid_gap": null,
      "grid_row": null,
      "grid_template_areas": null,
      "grid_template_columns": null,
      "grid_template_rows": null,
      "height": null,
      "justify_content": null,
      "justify_items": null,
      "left": null,
      "margin": null,
      "max_height": null,
      "max_width": null,
      "min_height": null,
      "min_width": null,
      "object_fit": null,
      "object_position": null,
      "order": null,
      "overflow": null,
      "overflow_x": null,
      "overflow_y": null,
      "padding": null,
      "right": null,
      "top": null,
      "visibility": null,
      "width": null
     }
    },
    "1c41066801324c59acc22700593bc469": {
     "model_module": "@jupyter-widgets/base",
     "model_module_version": "1.2.0",
     "model_name": "LayoutModel",
     "state": {
      "_model_module": "@jupyter-widgets/base",
      "_model_module_version": "1.2.0",
      "_model_name": "LayoutModel",
      "_view_count": null,
      "_view_module": "@jupyter-widgets/base",
      "_view_module_version": "1.2.0",
      "_view_name": "LayoutView",
      "align_content": null,
      "align_items": null,
      "align_self": null,
      "border": null,
      "bottom": null,
      "display": null,
      "flex": null,
      "flex_flow": null,
      "grid_area": null,
      "grid_auto_columns": null,
      "grid_auto_flow": null,
      "grid_auto_rows": null,
      "grid_column": null,
      "grid_gap": null,
      "grid_row": null,
      "grid_template_areas": null,
      "grid_template_columns": null,
      "grid_template_rows": null,
      "height": null,
      "justify_content": null,
      "justify_items": null,
      "left": null,
      "margin": null,
      "max_height": null,
      "max_width": null,
      "min_height": null,
      "min_width": null,
      "object_fit": null,
      "object_position": null,
      "order": null,
      "overflow": null,
      "overflow_x": null,
      "overflow_y": null,
      "padding": null,
      "right": null,
      "top": null,
      "visibility": null,
      "width": null
     }
    },
    "1e5e223b4cf74a4e9b53fa37573fde68": {
     "model_module": "@jupyter-widgets/controls",
     "model_module_version": "1.5.0",
     "model_name": "DescriptionStyleModel",
     "state": {
      "_model_module": "@jupyter-widgets/controls",
      "_model_module_version": "1.5.0",
      "_model_name": "DescriptionStyleModel",
      "_view_count": null,
      "_view_module": "@jupyter-widgets/base",
      "_view_module_version": "1.2.0",
      "_view_name": "StyleView",
      "description_width": ""
     }
    },
    "1ea16220e8cc45f1a4fcf86d9cdd3457": {
     "model_module": "@jupyter-widgets/base",
     "model_module_version": "1.2.0",
     "model_name": "LayoutModel",
     "state": {
      "_model_module": "@jupyter-widgets/base",
      "_model_module_version": "1.2.0",
      "_model_name": "LayoutModel",
      "_view_count": null,
      "_view_module": "@jupyter-widgets/base",
      "_view_module_version": "1.2.0",
      "_view_name": "LayoutView",
      "align_content": null,
      "align_items": null,
      "align_self": null,
      "border": null,
      "bottom": null,
      "display": null,
      "flex": null,
      "flex_flow": null,
      "grid_area": null,
      "grid_auto_columns": null,
      "grid_auto_flow": null,
      "grid_auto_rows": null,
      "grid_column": null,
      "grid_gap": null,
      "grid_row": null,
      "grid_template_areas": null,
      "grid_template_columns": null,
      "grid_template_rows": null,
      "height": null,
      "justify_content": null,
      "justify_items": null,
      "left": null,
      "margin": null,
      "max_height": null,
      "max_width": null,
      "min_height": null,
      "min_width": null,
      "object_fit": null,
      "object_position": null,
      "order": null,
      "overflow": null,
      "overflow_x": null,
      "overflow_y": null,
      "padding": null,
      "right": null,
      "top": null,
      "visibility": null,
      "width": null
     }
    },
    "234267d5fa1a409d8e0ea43759e3f77c": {
     "model_module": "@jupyter-widgets/base",
     "model_module_version": "1.2.0",
     "model_name": "LayoutModel",
     "state": {
      "_model_module": "@jupyter-widgets/base",
      "_model_module_version": "1.2.0",
      "_model_name": "LayoutModel",
      "_view_count": null,
      "_view_module": "@jupyter-widgets/base",
      "_view_module_version": "1.2.0",
      "_view_name": "LayoutView",
      "align_content": null,
      "align_items": null,
      "align_self": null,
      "border": null,
      "bottom": null,
      "display": null,
      "flex": null,
      "flex_flow": null,
      "grid_area": null,
      "grid_auto_columns": null,
      "grid_auto_flow": null,
      "grid_auto_rows": null,
      "grid_column": null,
      "grid_gap": null,
      "grid_row": null,
      "grid_template_areas": null,
      "grid_template_columns": null,
      "grid_template_rows": null,
      "height": null,
      "justify_content": null,
      "justify_items": null,
      "left": null,
      "margin": null,
      "max_height": null,
      "max_width": null,
      "min_height": null,
      "min_width": null,
      "object_fit": null,
      "object_position": null,
      "order": null,
      "overflow": null,
      "overflow_x": null,
      "overflow_y": null,
      "padding": null,
      "right": null,
      "top": null,
      "visibility": null,
      "width": null
     }
    },
    "28ab2a5675fc462aa812b272f7f55414": {
     "model_module": "@jupyter-widgets/controls",
     "model_module_version": "1.5.0",
     "model_name": "HTMLModel",
     "state": {
      "_dom_classes": [],
      "_model_module": "@jupyter-widgets/controls",
      "_model_module_version": "1.5.0",
      "_model_name": "HTMLModel",
      "_view_count": null,
      "_view_module": "@jupyter-widgets/controls",
      "_view_module_version": "1.5.0",
      "_view_name": "HTMLView",
      "description": "",
      "description_tooltip": null,
      "layout": "IPY_MODEL_5d482f2af0eb46d086d545508cbb69b6",
      "placeholder": "​",
      "style": "IPY_MODEL_1e5e223b4cf74a4e9b53fa37573fde68",
      "value": "vocab.txt: 100%"
     }
    },
    "295da25a73fb4b8eb5a4a0296d4816ac": {
     "model_module": "@jupyter-widgets/base",
     "model_module_version": "1.2.0",
     "model_name": "LayoutModel",
     "state": {
      "_model_module": "@jupyter-widgets/base",
      "_model_module_version": "1.2.0",
      "_model_name": "LayoutModel",
      "_view_count": null,
      "_view_module": "@jupyter-widgets/base",
      "_view_module_version": "1.2.0",
      "_view_name": "LayoutView",
      "align_content": null,
      "align_items": null,
      "align_self": null,
      "border": null,
      "bottom": null,
      "display": null,
      "flex": null,
      "flex_flow": null,
      "grid_area": null,
      "grid_auto_columns": null,
      "grid_auto_flow": null,
      "grid_auto_rows": null,
      "grid_column": null,
      "grid_gap": null,
      "grid_row": null,
      "grid_template_areas": null,
      "grid_template_columns": null,
      "grid_template_rows": null,
      "height": null,
      "justify_content": null,
      "justify_items": null,
      "left": null,
      "margin": null,
      "max_height": null,
      "max_width": null,
      "min_height": null,
      "min_width": null,
      "object_fit": null,
      "object_position": null,
      "order": null,
      "overflow": null,
      "overflow_x": null,
      "overflow_y": null,
      "padding": null,
      "right": null,
      "top": null,
      "visibility": null,
      "width": null
     }
    },
    "387201d4d5424be3993eb8ed05a79807": {
     "model_module": "@jupyter-widgets/base",
     "model_module_version": "1.2.0",
     "model_name": "LayoutModel",
     "state": {
      "_model_module": "@jupyter-widgets/base",
      "_model_module_version": "1.2.0",
      "_model_name": "LayoutModel",
      "_view_count": null,
      "_view_module": "@jupyter-widgets/base",
      "_view_module_version": "1.2.0",
      "_view_name": "LayoutView",
      "align_content": null,
      "align_items": null,
      "align_self": null,
      "border": null,
      "bottom": null,
      "display": null,
      "flex": null,
      "flex_flow": null,
      "grid_area": null,
      "grid_auto_columns": null,
      "grid_auto_flow": null,
      "grid_auto_rows": null,
      "grid_column": null,
      "grid_gap": null,
      "grid_row": null,
      "grid_template_areas": null,
      "grid_template_columns": null,
      "grid_template_rows": null,
      "height": null,
      "justify_content": null,
      "justify_items": null,
      "left": null,
      "margin": null,
      "max_height": null,
      "max_width": null,
      "min_height": null,
      "min_width": null,
      "object_fit": null,
      "object_position": null,
      "order": null,
      "overflow": null,
      "overflow_x": null,
      "overflow_y": null,
      "padding": null,
      "right": null,
      "top": null,
      "visibility": null,
      "width": null
     }
    },
    "3a83d5cad72d47428deaf7893a85656c": {
     "model_module": "@jupyter-widgets/controls",
     "model_module_version": "1.5.0",
     "model_name": "HTMLModel",
     "state": {
      "_dom_classes": [],
      "_model_module": "@jupyter-widgets/controls",
      "_model_module_version": "1.5.0",
      "_model_name": "HTMLModel",
      "_view_count": null,
      "_view_module": "@jupyter-widgets/controls",
      "_view_module_version": "1.5.0",
      "_view_name": "HTMLView",
      "description": "",
      "description_tooltip": null,
      "layout": "IPY_MODEL_4737e3b0d38f4a058ac428311806e400",
      "placeholder": "​",
      "style": "IPY_MODEL_c899569a19de42d4ade61f91a8edcf0e",
      "value": " 112/112 [00:00&lt;00:00, 1.03kB/s]"
     }
    },
    "4737e3b0d38f4a058ac428311806e400": {
     "model_module": "@jupyter-widgets/base",
     "model_module_version": "1.2.0",
     "model_name": "LayoutModel",
     "state": {
      "_model_module": "@jupyter-widgets/base",
      "_model_module_version": "1.2.0",
      "_model_name": "LayoutModel",
      "_view_count": null,
      "_view_module": "@jupyter-widgets/base",
      "_view_module_version": "1.2.0",
      "_view_name": "LayoutView",
      "align_content": null,
      "align_items": null,
      "align_self": null,
      "border": null,
      "bottom": null,
      "display": null,
      "flex": null,
      "flex_flow": null,
      "grid_area": null,
      "grid_auto_columns": null,
      "grid_auto_flow": null,
      "grid_auto_rows": null,
      "grid_column": null,
      "grid_gap": null,
      "grid_row": null,
      "grid_template_areas": null,
      "grid_template_columns": null,
      "grid_template_rows": null,
      "height": null,
      "justify_content": null,
      "justify_items": null,
      "left": null,
      "margin": null,
      "max_height": null,
      "max_width": null,
      "min_height": null,
      "min_width": null,
      "object_fit": null,
      "object_position": null,
      "order": null,
      "overflow": null,
      "overflow_x": null,
      "overflow_y": null,
      "padding": null,
      "right": null,
      "top": null,
      "visibility": null,
      "width": null
     }
    },
    "4b0f9c3a1f204643becfa40e0bae71a5": {
     "model_module": "@jupyter-widgets/base",
     "model_module_version": "1.2.0",
     "model_name": "LayoutModel",
     "state": {
      "_model_module": "@jupyter-widgets/base",
      "_model_module_version": "1.2.0",
      "_model_name": "LayoutModel",
      "_view_count": null,
      "_view_module": "@jupyter-widgets/base",
      "_view_module_version": "1.2.0",
      "_view_name": "LayoutView",
      "align_content": null,
      "align_items": null,
      "align_self": null,
      "border": null,
      "bottom": null,
      "display": null,
      "flex": null,
      "flex_flow": null,
      "grid_area": null,
      "grid_auto_columns": null,
      "grid_auto_flow": null,
      "grid_auto_rows": null,
      "grid_column": null,
      "grid_gap": null,
      "grid_row": null,
      "grid_template_areas": null,
      "grid_template_columns": null,
      "grid_template_rows": null,
      "height": null,
      "justify_content": null,
      "justify_items": null,
      "left": null,
      "margin": null,
      "max_height": null,
      "max_width": null,
      "min_height": null,
      "min_width": null,
      "object_fit": null,
      "object_position": null,
      "order": null,
      "overflow": null,
      "overflow_x": null,
      "overflow_y": null,
      "padding": null,
      "right": null,
      "top": null,
      "visibility": null,
      "width": null
     }
    },
    "4e23cd20d39d49afb59ef4f0bbebce99": {
     "model_module": "@jupyter-widgets/controls",
     "model_module_version": "1.5.0",
     "model_name": "DescriptionStyleModel",
     "state": {
      "_model_module": "@jupyter-widgets/controls",
      "_model_module_version": "1.5.0",
      "_model_name": "DescriptionStyleModel",
      "_view_count": null,
      "_view_module": "@jupyter-widgets/base",
      "_view_module_version": "1.2.0",
      "_view_name": "StyleView",
      "description_width": ""
     }
    },
    "4e4d0923aaca4b6ea7c285d433e28d4f": {
     "model_module": "@jupyter-widgets/base",
     "model_module_version": "1.2.0",
     "model_name": "LayoutModel",
     "state": {
      "_model_module": "@jupyter-widgets/base",
      "_model_module_version": "1.2.0",
      "_model_name": "LayoutModel",
      "_view_count": null,
      "_view_module": "@jupyter-widgets/base",
      "_view_module_version": "1.2.0",
      "_view_name": "LayoutView",
      "align_content": null,
      "align_items": null,
      "align_self": null,
      "border": null,
      "bottom": null,
      "display": null,
      "flex": null,
      "flex_flow": null,
      "grid_area": null,
      "grid_auto_columns": null,
      "grid_auto_flow": null,
      "grid_auto_rows": null,
      "grid_column": null,
      "grid_gap": null,
      "grid_row": null,
      "grid_template_areas": null,
      "grid_template_columns": null,
      "grid_template_rows": null,
      "height": null,
      "justify_content": null,
      "justify_items": null,
      "left": null,
      "margin": null,
      "max_height": null,
      "max_width": null,
      "min_height": null,
      "min_width": null,
      "object_fit": null,
      "object_position": null,
      "order": null,
      "overflow": null,
      "overflow_x": null,
      "overflow_y": null,
      "padding": null,
      "right": null,
      "top": null,
      "visibility": null,
      "width": null
     }
    },
    "50905cadbcc34f9e98b241c7cc446cee": {
     "model_module": "@jupyter-widgets/controls",
     "model_module_version": "1.5.0",
     "model_name": "HBoxModel",
     "state": {
      "_dom_classes": [],
      "_model_module": "@jupyter-widgets/controls",
      "_model_module_version": "1.5.0",
      "_model_name": "HBoxModel",
      "_view_count": null,
      "_view_module": "@jupyter-widgets/controls",
      "_view_module_version": "1.5.0",
      "_view_name": "HBoxView",
      "box_style": "",
      "children": [
       "IPY_MODEL_bcac72194dc34a9e80e0349a579b4a15",
       "IPY_MODEL_e756c60bf016402698a22a53eed2195f",
       "IPY_MODEL_6fb53803e81b461fa84ff1f34ce55c18"
      ],
      "layout": "IPY_MODEL_a91ace80a63a494c962d471cfeff7010"
     }
    },
    "511f5912d40c4deaa1cb690f56eeebeb": {
     "model_module": "@jupyter-widgets/controls",
     "model_module_version": "1.5.0",
     "model_name": "HTMLModel",
     "state": {
      "_dom_classes": [],
      "_model_module": "@jupyter-widgets/controls",
      "_model_module_version": "1.5.0",
      "_model_name": "HTMLModel",
      "_view_count": null,
      "_view_module": "@jupyter-widgets/controls",
      "_view_module_version": "1.5.0",
      "_view_name": "HTMLView",
      "description": "",
      "description_tooltip": null,
      "layout": "IPY_MODEL_bd7295fc9a604f4196d7659ef313c242",
      "placeholder": "​",
      "style": "IPY_MODEL_5fe026253b644a298cf0e22927c42ea5",
      "value": " 1.65M/1.65M [00:00&lt;00:00, 6.40MB/s]"
     }
    },
    "5d482f2af0eb46d086d545508cbb69b6": {
     "model_module": "@jupyter-widgets/base",
     "model_module_version": "1.2.0",
     "model_name": "LayoutModel",
     "state": {
      "_model_module": "@jupyter-widgets/base",
      "_model_module_version": "1.2.0",
      "_model_name": "LayoutModel",
      "_view_count": null,
      "_view_module": "@jupyter-widgets/base",
      "_view_module_version": "1.2.0",
      "_view_name": "LayoutView",
      "align_content": null,
      "align_items": null,
      "align_self": null,
      "border": null,
      "bottom": null,
      "display": null,
      "flex": null,
      "flex_flow": null,
      "grid_area": null,
      "grid_auto_columns": null,
      "grid_auto_flow": null,
      "grid_auto_rows": null,
      "grid_column": null,
      "grid_gap": null,
      "grid_row": null,
      "grid_template_areas": null,
      "grid_template_columns": null,
      "grid_template_rows": null,
      "height": null,
      "justify_content": null,
      "justify_items": null,
      "left": null,
      "margin": null,
      "max_height": null,
      "max_width": null,
      "min_height": null,
      "min_width": null,
      "object_fit": null,
      "object_position": null,
      "order": null,
      "overflow": null,
      "overflow_x": null,
      "overflow_y": null,
      "padding": null,
      "right": null,
      "top": null,
      "visibility": null,
      "width": null
     }
    },
    "5f24a8d0c6e544f6941c494f4b6a0fd0": {
     "model_module": "@jupyter-widgets/base",
     "model_module_version": "1.2.0",
     "model_name": "LayoutModel",
     "state": {
      "_model_module": "@jupyter-widgets/base",
      "_model_module_version": "1.2.0",
      "_model_name": "LayoutModel",
      "_view_count": null,
      "_view_module": "@jupyter-widgets/base",
      "_view_module_version": "1.2.0",
      "_view_name": "LayoutView",
      "align_content": null,
      "align_items": null,
      "align_self": null,
      "border": null,
      "bottom": null,
      "display": null,
      "flex": null,
      "flex_flow": null,
      "grid_area": null,
      "grid_auto_columns": null,
      "grid_auto_flow": null,
      "grid_auto_rows": null,
      "grid_column": null,
      "grid_gap": null,
      "grid_row": null,
      "grid_template_areas": null,
      "grid_template_columns": null,
      "grid_template_rows": null,
      "height": null,
      "justify_content": null,
      "justify_items": null,
      "left": null,
      "margin": null,
      "max_height": null,
      "max_width": null,
      "min_height": null,
      "min_width": null,
      "object_fit": null,
      "object_position": null,
      "order": null,
      "overflow": null,
      "overflow_x": null,
      "overflow_y": null,
      "padding": null,
      "right": null,
      "top": null,
      "visibility": null,
      "width": null
     }
    },
    "5fe026253b644a298cf0e22927c42ea5": {
     "model_module": "@jupyter-widgets/controls",
     "model_module_version": "1.5.0",
     "model_name": "DescriptionStyleModel",
     "state": {
      "_model_module": "@jupyter-widgets/controls",
      "_model_module_version": "1.5.0",
      "_model_name": "DescriptionStyleModel",
      "_view_count": null,
      "_view_module": "@jupyter-widgets/base",
      "_view_module_version": "1.2.0",
      "_view_name": "StyleView",
      "description_width": ""
     }
    },
    "64aa214a300e4866bd2fb6b9ee0c26e1": {
     "model_module": "@jupyter-widgets/base",
     "model_module_version": "1.2.0",
     "model_name": "LayoutModel",
     "state": {
      "_model_module": "@jupyter-widgets/base",
      "_model_module_version": "1.2.0",
      "_model_name": "LayoutModel",
      "_view_count": null,
      "_view_module": "@jupyter-widgets/base",
      "_view_module_version": "1.2.0",
      "_view_name": "LayoutView",
      "align_content": null,
      "align_items": null,
      "align_self": null,
      "border": null,
      "bottom": null,
      "display": null,
      "flex": null,
      "flex_flow": null,
      "grid_area": null,
      "grid_auto_columns": null,
      "grid_auto_flow": null,
      "grid_auto_rows": null,
      "grid_column": null,
      "grid_gap": null,
      "grid_row": null,
      "grid_template_areas": null,
      "grid_template_columns": null,
      "grid_template_rows": null,
      "height": null,
      "justify_content": null,
      "justify_items": null,
      "left": null,
      "margin": null,
      "max_height": null,
      "max_width": null,
      "min_height": null,
      "min_width": null,
      "object_fit": null,
      "object_position": null,
      "order": null,
      "overflow": null,
      "overflow_x": null,
      "overflow_y": null,
      "padding": null,
      "right": null,
      "top": null,
      "visibility": null,
      "width": null
     }
    },
    "6a81983d1a964e4c8ad39d1dbff5150a": {
     "model_module": "@jupyter-widgets/controls",
     "model_module_version": "1.5.0",
     "model_name": "FloatProgressModel",
     "state": {
      "_dom_classes": [],
      "_model_module": "@jupyter-widgets/controls",
      "_model_module_version": "1.5.0",
      "_model_name": "FloatProgressModel",
      "_view_count": null,
      "_view_module": "@jupyter-widgets/controls",
      "_view_module_version": "1.5.0",
      "_view_name": "ProgressView",
      "bar_style": "success",
      "description": "",
      "description_tooltip": null,
      "layout": "IPY_MODEL_6f63cbce3362419aad8639ef27203777",
      "max": 24,
      "min": 0,
      "orientation": "horizontal",
      "style": "IPY_MODEL_f630e79bbc8a42a5a469ced5f4e8feac",
      "value": 24
     }
    },
    "6f63cbce3362419aad8639ef27203777": {
     "model_module": "@jupyter-widgets/base",
     "model_module_version": "1.2.0",
     "model_name": "LayoutModel",
     "state": {
      "_model_module": "@jupyter-widgets/base",
      "_model_module_version": "1.2.0",
      "_model_name": "LayoutModel",
      "_view_count": null,
      "_view_module": "@jupyter-widgets/base",
      "_view_module_version": "1.2.0",
      "_view_name": "LayoutView",
      "align_content": null,
      "align_items": null,
      "align_self": null,
      "border": null,
      "bottom": null,
      "display": null,
      "flex": null,
      "flex_flow": null,
      "grid_area": null,
      "grid_auto_columns": null,
      "grid_auto_flow": null,
      "grid_auto_rows": null,
      "grid_column": null,
      "grid_gap": null,
      "grid_row": null,
      "grid_template_areas": null,
      "grid_template_columns": null,
      "grid_template_rows": null,
      "height": null,
      "justify_content": null,
      "justify_items": null,
      "left": null,
      "margin": null,
      "max_height": null,
      "max_width": null,
      "min_height": null,
      "min_width": null,
      "object_fit": null,
      "object_position": null,
      "order": null,
      "overflow": null,
      "overflow_x": null,
      "overflow_y": null,
      "padding": null,
      "right": null,
      "top": null,
      "visibility": null,
      "width": null
     }
    },
    "6fb53803e81b461fa84ff1f34ce55c18": {
     "model_module": "@jupyter-widgets/controls",
     "model_module_version": "1.5.0",
     "model_name": "HTMLModel",
     "state": {
      "_dom_classes": [],
      "_model_module": "@jupyter-widgets/controls",
      "_model_module_version": "1.5.0",
      "_model_name": "HTMLModel",
      "_view_count": null,
      "_view_module": "@jupyter-widgets/controls",
      "_view_module_version": "1.5.0",
      "_view_name": "HTMLView",
      "description": "",
      "description_tooltip": null,
      "layout": "IPY_MODEL_295da25a73fb4b8eb5a4a0296d4816ac",
      "placeholder": "​",
      "style": "IPY_MODEL_ccb91d41efdb4047936fc5387ae9d6dc",
      "value": " 714M/714M [00:09&lt;00:00, 90.0MB/s]"
     }
    },
    "7143c5f7b83e470c9c07d2b10a383fa2": {
     "model_module": "@jupyter-widgets/controls",
     "model_module_version": "1.5.0",
     "model_name": "HBoxModel",
     "state": {
      "_dom_classes": [],
      "_model_module": "@jupyter-widgets/controls",
      "_model_module_version": "1.5.0",
      "_model_name": "HBoxModel",
      "_view_count": null,
      "_view_module": "@jupyter-widgets/controls",
      "_view_module_version": "1.5.0",
      "_view_name": "HBoxView",
      "box_style": "",
      "children": [
       "IPY_MODEL_28ab2a5675fc462aa812b272f7f55414",
       "IPY_MODEL_dc627c0e1e9f42159636703469cf524d",
       "IPY_MODEL_511f5912d40c4deaa1cb690f56eeebeb"
      ],
      "layout": "IPY_MODEL_64aa214a300e4866bd2fb6b9ee0c26e1"
     }
    },
    "7c7e7f2bad49463e84cda06cfa4327aa": {
     "model_module": "@jupyter-widgets/base",
     "model_module_version": "1.2.0",
     "model_name": "LayoutModel",
     "state": {
      "_model_module": "@jupyter-widgets/base",
      "_model_module_version": "1.2.0",
      "_model_name": "LayoutModel",
      "_view_count": null,
      "_view_module": "@jupyter-widgets/base",
      "_view_module_version": "1.2.0",
      "_view_name": "LayoutView",
      "align_content": null,
      "align_items": null,
      "align_self": null,
      "border": null,
      "bottom": null,
      "display": null,
      "flex": null,
      "flex_flow": null,
      "grid_area": null,
      "grid_auto_columns": null,
      "grid_auto_flow": null,
      "grid_auto_rows": null,
      "grid_column": null,
      "grid_gap": null,
      "grid_row": null,
      "grid_template_areas": null,
      "grid_template_columns": null,
      "grid_template_rows": null,
      "height": null,
      "justify_content": null,
      "justify_items": null,
      "left": null,
      "margin": null,
      "max_height": null,
      "max_width": null,
      "min_height": null,
      "min_width": null,
      "object_fit": null,
      "object_position": null,
      "order": null,
      "overflow": null,
      "overflow_x": null,
      "overflow_y": null,
      "padding": null,
      "right": null,
      "top": null,
      "visibility": null,
      "width": null
     }
    },
    "8133e50ca68b4670bc6c66376300ed66": {
     "model_module": "@jupyter-widgets/controls",
     "model_module_version": "1.5.0",
     "model_name": "DescriptionStyleModel",
     "state": {
      "_model_module": "@jupyter-widgets/controls",
      "_model_module_version": "1.5.0",
      "_model_name": "DescriptionStyleModel",
      "_view_count": null,
      "_view_module": "@jupyter-widgets/base",
      "_view_module_version": "1.2.0",
      "_view_name": "StyleView",
      "description_width": ""
     }
    },
    "86e4da4f93d54801938d3462e2fe82a4": {
     "model_module": "@jupyter-widgets/controls",
     "model_module_version": "1.5.0",
     "model_name": "DescriptionStyleModel",
     "state": {
      "_model_module": "@jupyter-widgets/controls",
      "_model_module_version": "1.5.0",
      "_model_name": "DescriptionStyleModel",
      "_view_count": null,
      "_view_module": "@jupyter-widgets/base",
      "_view_module_version": "1.2.0",
      "_view_name": "StyleView",
      "description_width": ""
     }
    },
    "98b0ce5b801e4fd883cf5ebb2a27397d": {
     "model_module": "@jupyter-widgets/controls",
     "model_module_version": "1.5.0",
     "model_name": "HTMLModel",
     "state": {
      "_dom_classes": [],
      "_model_module": "@jupyter-widgets/controls",
      "_model_module_version": "1.5.0",
      "_model_name": "HTMLModel",
      "_view_count": null,
      "_view_module": "@jupyter-widgets/controls",
      "_view_module_version": "1.5.0",
      "_view_name": "HTMLView",
      "description": "",
      "description_tooltip": null,
      "layout": "IPY_MODEL_5f24a8d0c6e544f6941c494f4b6a0fd0",
      "placeholder": "​",
      "style": "IPY_MODEL_8133e50ca68b4670bc6c66376300ed66",
      "value": "special_tokens_map.json: 100%"
     }
    },
    "9f1c915eb44a41fb94967850b78dc3df": {
     "model_module": "@jupyter-widgets/base",
     "model_module_version": "1.2.0",
     "model_name": "LayoutModel",
     "state": {
      "_model_module": "@jupyter-widgets/base",
      "_model_module_version": "1.2.0",
      "_model_name": "LayoutModel",
      "_view_count": null,
      "_view_module": "@jupyter-widgets/base",
      "_view_module_version": "1.2.0",
      "_view_name": "LayoutView",
      "align_content": null,
      "align_items": null,
      "align_self": null,
      "border": null,
      "bottom": null,
      "display": null,
      "flex": null,
      "flex_flow": null,
      "grid_area": null,
      "grid_auto_columns": null,
      "grid_auto_flow": null,
      "grid_auto_rows": null,
      "grid_column": null,
      "grid_gap": null,
      "grid_row": null,
      "grid_template_areas": null,
      "grid_template_columns": null,
      "grid_template_rows": null,
      "height": null,
      "justify_content": null,
      "justify_items": null,
      "left": null,
      "margin": null,
      "max_height": null,
      "max_width": null,
      "min_height": null,
      "min_width": null,
      "object_fit": null,
      "object_position": null,
      "order": null,
      "overflow": null,
      "overflow_x": null,
      "overflow_y": null,
      "padding": null,
      "right": null,
      "top": null,
      "visibility": null,
      "width": null
     }
    },
    "a5467dbd29ca4f8c936d48cb75fab9d3": {
     "model_module": "@jupyter-widgets/controls",
     "model_module_version": "1.5.0",
     "model_name": "ProgressStyleModel",
     "state": {
      "_model_module": "@jupyter-widgets/controls",
      "_model_module_version": "1.5.0",
      "_model_name": "ProgressStyleModel",
      "_view_count": null,
      "_view_module": "@jupyter-widgets/base",
      "_view_module_version": "1.2.0",
      "_view_name": "StyleView",
      "bar_color": null,
      "description_width": ""
     }
    },
    "a7a94775f8a646039d6dfe6ea686bcbc": {
     "model_module": "@jupyter-widgets/base",
     "model_module_version": "1.2.0",
     "model_name": "LayoutModel",
     "state": {
      "_model_module": "@jupyter-widgets/base",
      "_model_module_version": "1.2.0",
      "_model_name": "LayoutModel",
      "_view_count": null,
      "_view_module": "@jupyter-widgets/base",
      "_view_module_version": "1.2.0",
      "_view_name": "LayoutView",
      "align_content": null,
      "align_items": null,
      "align_self": null,
      "border": null,
      "bottom": null,
      "display": null,
      "flex": null,
      "flex_flow": null,
      "grid_area": null,
      "grid_auto_columns": null,
      "grid_auto_flow": null,
      "grid_auto_rows": null,
      "grid_column": null,
      "grid_gap": null,
      "grid_row": null,
      "grid_template_areas": null,
      "grid_template_columns": null,
      "grid_template_rows": null,
      "height": null,
      "justify_content": null,
      "justify_items": null,
      "left": null,
      "margin": null,
      "max_height": null,
      "max_width": null,
      "min_height": null,
      "min_width": null,
      "object_fit": null,
      "object_position": null,
      "order": null,
      "overflow": null,
      "overflow_x": null,
      "overflow_y": null,
      "padding": null,
      "right": null,
      "top": null,
      "visibility": null,
      "width": null
     }
    },
    "a91ace80a63a494c962d471cfeff7010": {
     "model_module": "@jupyter-widgets/base",
     "model_module_version": "1.2.0",
     "model_name": "LayoutModel",
     "state": {
      "_model_module": "@jupyter-widgets/base",
      "_model_module_version": "1.2.0",
      "_model_name": "LayoutModel",
      "_view_count": null,
      "_view_module": "@jupyter-widgets/base",
      "_view_module_version": "1.2.0",
      "_view_name": "LayoutView",
      "align_content": null,
      "align_items": null,
      "align_self": null,
      "border": null,
      "bottom": null,
      "display": null,
      "flex": null,
      "flex_flow": null,
      "grid_area": null,
      "grid_auto_columns": null,
      "grid_auto_flow": null,
      "grid_auto_rows": null,
      "grid_column": null,
      "grid_gap": null,
      "grid_row": null,
      "grid_template_areas": null,
      "grid_template_columns": null,
      "grid_template_rows": null,
      "height": null,
      "justify_content": null,
      "justify_items": null,
      "left": null,
      "margin": null,
      "max_height": null,
      "max_width": null,
      "min_height": null,
      "min_width": null,
      "object_fit": null,
      "object_position": null,
      "order": null,
      "overflow": null,
      "overflow_x": null,
      "overflow_y": null,
      "padding": null,
      "right": null,
      "top": null,
      "visibility": null,
      "width": null
     }
    },
    "aae54bc281ca4477b8aec3cc2e8ca9b6": {
     "model_module": "@jupyter-widgets/controls",
     "model_module_version": "1.5.0",
     "model_name": "DescriptionStyleModel",
     "state": {
      "_model_module": "@jupyter-widgets/controls",
      "_model_module_version": "1.5.0",
      "_model_name": "DescriptionStyleModel",
      "_view_count": null,
      "_view_module": "@jupyter-widgets/base",
      "_view_module_version": "1.2.0",
      "_view_name": "StyleView",
      "description_width": ""
     }
    },
    "ab9c8d6ab9e64f46b25f1518559f2681": {
     "model_module": "@jupyter-widgets/base",
     "model_module_version": "1.2.0",
     "model_name": "LayoutModel",
     "state": {
      "_model_module": "@jupyter-widgets/base",
      "_model_module_version": "1.2.0",
      "_model_name": "LayoutModel",
      "_view_count": null,
      "_view_module": "@jupyter-widgets/base",
      "_view_module_version": "1.2.0",
      "_view_name": "LayoutView",
      "align_content": null,
      "align_items": null,
      "align_self": null,
      "border": null,
      "bottom": null,
      "display": null,
      "flex": null,
      "flex_flow": null,
      "grid_area": null,
      "grid_auto_columns": null,
      "grid_auto_flow": null,
      "grid_auto_rows": null,
      "grid_column": null,
      "grid_gap": null,
      "grid_row": null,
      "grid_template_areas": null,
      "grid_template_columns": null,
      "grid_template_rows": null,
      "height": null,
      "justify_content": null,
      "justify_items": null,
      "left": null,
      "margin": null,
      "max_height": null,
      "max_width": null,
      "min_height": null,
      "min_width": null,
      "object_fit": null,
      "object_position": null,
      "order": null,
      "overflow": null,
      "overflow_x": null,
      "overflow_y": null,
      "padding": null,
      "right": null,
      "top": null,
      "visibility": null,
      "width": null
     }
    },
    "bcac72194dc34a9e80e0349a579b4a15": {
     "model_module": "@jupyter-widgets/controls",
     "model_module_version": "1.5.0",
     "model_name": "HTMLModel",
     "state": {
      "_dom_classes": [],
      "_model_module": "@jupyter-widgets/controls",
      "_model_module_version": "1.5.0",
      "_model_name": "HTMLModel",
      "_view_count": null,
      "_view_module": "@jupyter-widgets/controls",
      "_view_module_version": "1.5.0",
      "_view_name": "HTMLView",
      "description": "",
      "description_tooltip": null,
      "layout": "IPY_MODEL_9f1c915eb44a41fb94967850b78dc3df",
      "placeholder": "​",
      "style": "IPY_MODEL_c73480dd097444af8bd6943f78b47ee0",
      "value": "pytorch_model.bin: 100%"
     }
    },
    "bd7295fc9a604f4196d7659ef313c242": {
     "model_module": "@jupyter-widgets/base",
     "model_module_version": "1.2.0",
     "model_name": "LayoutModel",
     "state": {
      "_model_module": "@jupyter-widgets/base",
      "_model_module_version": "1.2.0",
      "_model_name": "LayoutModel",
      "_view_count": null,
      "_view_module": "@jupyter-widgets/base",
      "_view_module_version": "1.2.0",
      "_view_name": "LayoutView",
      "align_content": null,
      "align_items": null,
      "align_self": null,
      "border": null,
      "bottom": null,
      "display": null,
      "flex": null,
      "flex_flow": null,
      "grid_area": null,
      "grid_auto_columns": null,
      "grid_auto_flow": null,
      "grid_auto_rows": null,
      "grid_column": null,
      "grid_gap": null,
      "grid_row": null,
      "grid_template_areas": null,
      "grid_template_columns": null,
      "grid_template_rows": null,
      "height": null,
      "justify_content": null,
      "justify_items": null,
      "left": null,
      "margin": null,
      "max_height": null,
      "max_width": null,
      "min_height": null,
      "min_width": null,
      "object_fit": null,
      "object_position": null,
      "order": null,
      "overflow": null,
      "overflow_x": null,
      "overflow_y": null,
      "padding": null,
      "right": null,
      "top": null,
      "visibility": null,
      "width": null
     }
    },
    "bdd97d38201548de8f5b277d73cdb73b": {
     "model_module": "@jupyter-widgets/controls",
     "model_module_version": "1.5.0",
     "model_name": "HBoxModel",
     "state": {
      "_dom_classes": [],
      "_model_module": "@jupyter-widgets/controls",
      "_model_module_version": "1.5.0",
      "_model_name": "HBoxModel",
      "_view_count": null,
      "_view_module": "@jupyter-widgets/controls",
      "_view_module_version": "1.5.0",
      "_view_name": "HBoxView",
      "box_style": "",
      "children": [
       "IPY_MODEL_98b0ce5b801e4fd883cf5ebb2a27397d",
       "IPY_MODEL_f1c963118f2e48e6b0492e8f638469bb",
       "IPY_MODEL_3a83d5cad72d47428deaf7893a85656c"
      ],
      "layout": "IPY_MODEL_7c7e7f2bad49463e84cda06cfa4327aa"
     }
    },
    "c73480dd097444af8bd6943f78b47ee0": {
     "model_module": "@jupyter-widgets/controls",
     "model_module_version": "1.5.0",
     "model_name": "DescriptionStyleModel",
     "state": {
      "_model_module": "@jupyter-widgets/controls",
      "_model_module_version": "1.5.0",
      "_model_name": "DescriptionStyleModel",
      "_view_count": null,
      "_view_module": "@jupyter-widgets/base",
      "_view_module_version": "1.2.0",
      "_view_name": "StyleView",
      "description_width": ""
     }
    },
    "c899569a19de42d4ade61f91a8edcf0e": {
     "model_module": "@jupyter-widgets/controls",
     "model_module_version": "1.5.0",
     "model_name": "DescriptionStyleModel",
     "state": {
      "_model_module": "@jupyter-widgets/controls",
      "_model_module_version": "1.5.0",
      "_model_name": "DescriptionStyleModel",
      "_view_count": null,
      "_view_module": "@jupyter-widgets/base",
      "_view_module_version": "1.2.0",
      "_view_name": "StyleView",
      "description_width": ""
     }
    },
    "cae5c28f445343f0a0009d757393ad7b": {
     "model_module": "@jupyter-widgets/controls",
     "model_module_version": "1.5.0",
     "model_name": "ProgressStyleModel",
     "state": {
      "_model_module": "@jupyter-widgets/controls",
      "_model_module_version": "1.5.0",
      "_model_name": "ProgressStyleModel",
      "_view_count": null,
      "_view_module": "@jupyter-widgets/base",
      "_view_module_version": "1.2.0",
      "_view_name": "StyleView",
      "bar_color": null,
      "description_width": ""
     }
    },
    "ccb91d41efdb4047936fc5387ae9d6dc": {
     "model_module": "@jupyter-widgets/controls",
     "model_module_version": "1.5.0",
     "model_name": "DescriptionStyleModel",
     "state": {
      "_model_module": "@jupyter-widgets/controls",
      "_model_module_version": "1.5.0",
      "_model_name": "DescriptionStyleModel",
      "_view_count": null,
      "_view_module": "@jupyter-widgets/base",
      "_view_module_version": "1.2.0",
      "_view_name": "StyleView",
      "description_width": ""
     }
    },
    "ce893787ea954d8f81c381a26919870b": {
     "model_module": "@jupyter-widgets/controls",
     "model_module_version": "1.5.0",
     "model_name": "DescriptionStyleModel",
     "state": {
      "_model_module": "@jupyter-widgets/controls",
      "_model_module_version": "1.5.0",
      "_model_name": "DescriptionStyleModel",
      "_view_count": null,
      "_view_module": "@jupyter-widgets/base",
      "_view_module_version": "1.2.0",
      "_view_name": "StyleView",
      "description_width": ""
     }
    },
    "d34203091b0445939da78d987fd893f1": {
     "model_module": "@jupyter-widgets/controls",
     "model_module_version": "1.5.0",
     "model_name": "HTMLModel",
     "state": {
      "_dom_classes": [],
      "_model_module": "@jupyter-widgets/controls",
      "_model_module_version": "1.5.0",
      "_model_name": "HTMLModel",
      "_view_count": null,
      "_view_module": "@jupyter-widgets/controls",
      "_view_module_version": "1.5.0",
      "_view_name": "HTMLView",
      "description": "",
      "description_tooltip": null,
      "layout": "IPY_MODEL_18cd89a357604e36a7c630c431803165",
      "placeholder": "​",
      "style": "IPY_MODEL_aae54bc281ca4477b8aec3cc2e8ca9b6",
      "value": " 24.0/24.0 [00:00&lt;00:00, 527B/s]"
     }
    },
    "dc627c0e1e9f42159636703469cf524d": {
     "model_module": "@jupyter-widgets/controls",
     "model_module_version": "1.5.0",
     "model_name": "FloatProgressModel",
     "state": {
      "_dom_classes": [],
      "_model_module": "@jupyter-widgets/controls",
      "_model_module_version": "1.5.0",
      "_model_name": "FloatProgressModel",
      "_view_count": null,
      "_view_module": "@jupyter-widgets/controls",
      "_view_module_version": "1.5.0",
      "_view_name": "ProgressView",
      "bar_style": "success",
      "description": "",
      "description_tooltip": null,
      "layout": "IPY_MODEL_a7a94775f8a646039d6dfe6ea686bcbc",
      "max": 1649718,
      "min": 0,
      "orientation": "horizontal",
      "style": "IPY_MODEL_0566ddea1fe1466ea6276a26bd61a940",
      "value": 1649718
     }
    },
    "de492fa9b4874433bf6094d7e377a10f": {
     "model_module": "@jupyter-widgets/base",
     "model_module_version": "1.2.0",
     "model_name": "LayoutModel",
     "state": {
      "_model_module": "@jupyter-widgets/base",
      "_model_module_version": "1.2.0",
      "_model_name": "LayoutModel",
      "_view_count": null,
      "_view_module": "@jupyter-widgets/base",
      "_view_module_version": "1.2.0",
      "_view_name": "LayoutView",
      "align_content": null,
      "align_items": null,
      "align_self": null,
      "border": null,
      "bottom": null,
      "display": null,
      "flex": null,
      "flex_flow": null,
      "grid_area": null,
      "grid_auto_columns": null,
      "grid_auto_flow": null,
      "grid_auto_rows": null,
      "grid_column": null,
      "grid_gap": null,
      "grid_row": null,
      "grid_template_areas": null,
      "grid_template_columns": null,
      "grid_template_rows": null,
      "height": null,
      "justify_content": null,
      "justify_items": null,
      "left": null,
      "margin": null,
      "max_height": null,
      "max_width": null,
      "min_height": null,
      "min_width": null,
      "object_fit": null,
      "object_position": null,
      "order": null,
      "overflow": null,
      "overflow_x": null,
      "overflow_y": null,
      "padding": null,
      "right": null,
      "top": null,
      "visibility": null,
      "width": null
     }
    },
    "e53232851bad472cbd8d2038263e2102": {
     "model_module": "@jupyter-widgets/controls",
     "model_module_version": "1.5.0",
     "model_name": "ProgressStyleModel",
     "state": {
      "_model_module": "@jupyter-widgets/controls",
      "_model_module_version": "1.5.0",
      "_model_name": "ProgressStyleModel",
      "_view_count": null,
      "_view_module": "@jupyter-widgets/base",
      "_view_module_version": "1.2.0",
      "_view_name": "StyleView",
      "bar_color": null,
      "description_width": ""
     }
    },
    "e756c60bf016402698a22a53eed2195f": {
     "model_module": "@jupyter-widgets/controls",
     "model_module_version": "1.5.0",
     "model_name": "FloatProgressModel",
     "state": {
      "_dom_classes": [],
      "_model_module": "@jupyter-widgets/controls",
      "_model_module_version": "1.5.0",
      "_model_name": "FloatProgressModel",
      "_view_count": null,
      "_view_module": "@jupyter-widgets/controls",
      "_view_module_version": "1.5.0",
      "_view_name": "ProgressView",
      "bar_style": "success",
      "description": "",
      "description_tooltip": null,
      "layout": "IPY_MODEL_ab9c8d6ab9e64f46b25f1518559f2681",
      "max": 714355318,
      "min": 0,
      "orientation": "horizontal",
      "style": "IPY_MODEL_e53232851bad472cbd8d2038263e2102",
      "value": 714355318
     }
    },
    "f1c963118f2e48e6b0492e8f638469bb": {
     "model_module": "@jupyter-widgets/controls",
     "model_module_version": "1.5.0",
     "model_name": "FloatProgressModel",
     "state": {
      "_dom_classes": [],
      "_model_module": "@jupyter-widgets/controls",
      "_model_module_version": "1.5.0",
      "_model_name": "FloatProgressModel",
      "_view_count": null,
      "_view_module": "@jupyter-widgets/controls",
      "_view_module_version": "1.5.0",
      "_view_name": "ProgressView",
      "bar_style": "success",
      "description": "",
      "description_tooltip": null,
      "layout": "IPY_MODEL_1c41066801324c59acc22700593bc469",
      "max": 112,
      "min": 0,
      "orientation": "horizontal",
      "style": "IPY_MODEL_a5467dbd29ca4f8c936d48cb75fab9d3",
      "value": 112
     }
    },
    "f2cd09d852c844538e8b56457eddbb68": {
     "model_module": "@jupyter-widgets/controls",
     "model_module_version": "1.5.0",
     "model_name": "HTMLModel",
     "state": {
      "_dom_classes": [],
      "_model_module": "@jupyter-widgets/controls",
      "_model_module_version": "1.5.0",
      "_model_name": "HTMLModel",
      "_view_count": null,
      "_view_module": "@jupyter-widgets/controls",
      "_view_module_version": "1.5.0",
      "_view_name": "HTMLView",
      "description": "",
      "description_tooltip": null,
      "layout": "IPY_MODEL_387201d4d5424be3993eb8ed05a79807",
      "placeholder": "​",
      "style": "IPY_MODEL_ce893787ea954d8f81c381a26919870b",
      "value": "tokenizer_config.json: 100%"
     }
    },
    "f630e79bbc8a42a5a469ced5f4e8feac": {
     "model_module": "@jupyter-widgets/controls",
     "model_module_version": "1.5.0",
     "model_name": "ProgressStyleModel",
     "state": {
      "_model_module": "@jupyter-widgets/controls",
      "_model_module_version": "1.5.0",
      "_model_name": "ProgressStyleModel",
      "_view_count": null,
      "_view_module": "@jupyter-widgets/base",
      "_view_module_version": "1.2.0",
      "_view_name": "StyleView",
      "bar_color": null,
      "description_width": ""
     }
    },
    "fcf52e77e7e449b597f3b84484333664": {
     "model_module": "@jupyter-widgets/controls",
     "model_module_version": "1.5.0",
     "model_name": "HBoxModel",
     "state": {
      "_dom_classes": [],
      "_model_module": "@jupyter-widgets/controls",
      "_model_module_version": "1.5.0",
      "_model_name": "HBoxModel",
      "_view_count": null,
      "_view_module": "@jupyter-widgets/controls",
      "_view_module_version": "1.5.0",
      "_view_name": "HBoxView",
      "box_style": "",
      "children": [
       "IPY_MODEL_f2cd09d852c844538e8b56457eddbb68",
       "IPY_MODEL_6a81983d1a964e4c8ad39d1dbff5150a",
       "IPY_MODEL_d34203091b0445939da78d987fd893f1"
      ],
      "layout": "IPY_MODEL_4e4d0923aaca4b6ea7c285d433e28d4f"
     }
    }
   }
  }
 },
 "nbformat": 4,
 "nbformat_minor": 4
}
